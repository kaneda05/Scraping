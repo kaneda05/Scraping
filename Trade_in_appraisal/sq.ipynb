{
 "cells": [
  {
   "cell_type": "code",
   "execution_count": null,
   "metadata": {},
   "outputs": [],
   "source": [
    "import time\n",
    "import requests\n",
    "from bs4 import BeautifulSoup\n",
    "from urllib.parse import urljoin\n",
    "import pandas as pd\n",
    "import datetime\n",
    "import os"
   ]
  },
  {
   "cell_type": "code",
   "execution_count": null,
   "metadata": {},
   "outputs": [],
   "source": [
    "date_data = []\n",
    "comments_data = []\n",
    "rating_data = []\n",
    "result_data = []\n",
    "\n",
    "for n in range(1, 100):\n",
    "  time.sleep(1)\n",
    "  url = f'https://autoc-one.jp/ullo/shopReview/pa{n}/'\n",
    "  res = requests.get(url)\n",
    "  soup = BeautifulSoup(res.text,\"html.parser\")\n",
    "\n",
    "  # 日付の取得\n",
    "  date = soup.find_all(\"span\",attrs={\"shop-review__user-shop\"})\n",
    "  for i in range(len(date)):\n",
    "    d = date[i].text[-11:]\n",
    "    d = d.replace(\"年\",\"-\").replace(\"月\",\"-\").replace(\"日\",\"\")\n",
    "    date_data.append(d)\n",
    "\n",
    "\n",
    "  # 評価の取得\n",
    "  rating = soup.find_all(\"span\",attrs={\"shop-review-total-rating__value\"})\n",
    "  for i in range(len(rating)):\n",
    "    rating_data.append(float(rating[i].text))\n",
    "\n",
    "  # コメントの取得\n",
    "  comments  = soup.select(\".shop-review__secondary\")\n",
    "  for i in range(len(comments)):\n",
    "    m = len(comments[i].find_all(\"p\"))\n",
    "    cms = \"\"\n",
    "    for c in range(m):\n",
    "      cms += comments[i].find_all(\"p\")[c].text.replace(\"         \",\"\").replace(\"\\n\",\"\").replace(\"\\r\",\"\").replace(\" \",\"\")\n",
    "    comments_data.append(cms)\n",
    "\n",
    "  #　買取が成立したかどうか\n",
    "  s = soup.select(\".shop-review__item\")\n",
    "  for i in range(len(s)):\n",
    "    if \"買取成立\" in s[i].text:\n",
    "      result_data.append(1)\n",
    "    else:\n",
    "      result_data.append(0)\n"
   ]
  },
  {
   "cell_type": "code",
   "execution_count": null,
   "metadata": {},
   "outputs": [],
   "source": [
    "data = {\"date\":1,\n",
    "        \"rate\":1,\n",
    "        \"comment\":1,\n",
    "        \"result\":1}\n",
    "\n",
    "data[\"date\"] = date_data\n",
    "data[\"rate\"] = rating_data\n",
    "data[\"comment\"] = comments_data\n",
    "data[\"result\"] = result_data\n",
    "df = pd.DataFrame(data)"
   ]
  },
  {
   "cell_type": "code",
   "execution_count": null,
   "metadata": {},
   "outputs": [],
   "source": [
    "df.head(10)"
   ]
  },
  {
   "cell_type": "code",
   "execution_count": null,
   "metadata": {},
   "outputs": [],
   "source": [
    "df[\"date\"] = pd.to_datetime(df[\"date\"])\n",
    "df.sort_values(by = 'date', ascending = True, inplace = True)\n",
    "df.head()"
   ]
  },
  {
   "cell_type": "code",
   "execution_count": null,
   "metadata": {},
   "outputs": [],
   "source": [
    "df.to_csv(\"trade_in_appraisal.csv\")"
   ]
  }
 ],
 "metadata": {
  "language_info": {
   "name": "python"
  },
  "orig_nbformat": 4
 },
 "nbformat": 4,
 "nbformat_minor": 2
}
