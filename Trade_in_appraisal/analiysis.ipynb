{
 "cells": [
  {
   "cell_type": "code",
   "execution_count": 49,
   "metadata": {},
   "outputs": [],
   "source": [
    "import pandas as pd\n",
    "import numpy as np\n",
    "import matplotlib.pyplot as plt\n",
    "plt.style.use(\"ggplot\")\n",
    "df = pd.read_csv(\"trade_in_appraisal.csv\",index_col=0)"
   ]
  },
  {
   "cell_type": "code",
   "execution_count": 16,
   "metadata": {},
   "outputs": [],
   "source": [
    "import MeCab"
   ]
  },
  {
   "cell_type": "code",
   "execution_count": 17,
   "metadata": {},
   "outputs": [
    {
     "data": {
      "text/html": [
       "<div>\n",
       "<style scoped>\n",
       "    .dataframe tbody tr th:only-of-type {\n",
       "        vertical-align: middle;\n",
       "    }\n",
       "\n",
       "    .dataframe tbody tr th {\n",
       "        vertical-align: top;\n",
       "    }\n",
       "\n",
       "    .dataframe thead th {\n",
       "        text-align: right;\n",
       "    }\n",
       "</style>\n",
       "<table border=\"1\" class=\"dataframe\">\n",
       "  <thead>\n",
       "    <tr style=\"text-align: right;\">\n",
       "      <th></th>\n",
       "      <th>date</th>\n",
       "      <th>rate</th>\n",
       "      <th>comment</th>\n",
       "      <th>result</th>\n",
       "    </tr>\n",
       "  </thead>\n",
       "  <tbody>\n",
       "    <tr>\n",
       "      <th>3959</th>\n",
       "      <td>2024-04-03</td>\n",
       "      <td>5.0</td>\n",
       "      <td>頑張ってはくれようとするが、結果は伴わず最終提示の額も条件ありでした。期待するが残念な結果です。</td>\n",
       "      <td>0</td>\n",
       "    </tr>\n",
       "    <tr>\n",
       "      <th>3931</th>\n",
       "      <td>2024-04-03</td>\n",
       "      <td>5.0</td>\n",
       "      <td>誠実な対応と過不足ない説明で不安なく売却出来ました。</td>\n",
       "      <td>1</td>\n",
       "    </tr>\n",
       "    <tr>\n",
       "      <th>3930</th>\n",
       "      <td>2024-04-03</td>\n",
       "      <td>4.3</td>\n",
       "      <td>丁寧な対応で良かったが、買取価格は、ここで乗換えれば更に高くなるという条件付きだったのが残念...</td>\n",
       "      <td>0</td>\n",
       "    </tr>\n",
       "    <tr>\n",
       "      <th>3929</th>\n",
       "      <td>2024-04-03</td>\n",
       "      <td>4.8</td>\n",
       "      <td>最終的に決まらなかったものの、最後まで査定価格を上司に掛け合ってくれるなど熱意がよかった。</td>\n",
       "      <td>0</td>\n",
       "    </tr>\n",
       "    <tr>\n",
       "      <th>3928</th>\n",
       "      <td>2024-04-03</td>\n",
       "      <td>5.0</td>\n",
       "      <td>丁寧な対応で、こちらのワガママも聞いて頂いたうえに、価格も頑張ってくれて非常に良かった。</td>\n",
       "      <td>1</td>\n",
       "    </tr>\n",
       "  </tbody>\n",
       "</table>\n",
       "</div>"
      ],
      "text/plain": [
       "            date  rate                                            comment  \\\n",
       "3959  2024-04-03   5.0   頑張ってはくれようとするが、結果は伴わず最終提示の額も条件ありでした。期待するが残念な結果です。   \n",
       "3931  2024-04-03   5.0                         誠実な対応と過不足ない説明で不安なく売却出来ました。   \n",
       "3930  2024-04-03   4.3  丁寧な対応で良かったが、買取価格は、ここで乗換えれば更に高くなるという条件付きだったのが残念...   \n",
       "3929  2024-04-03   4.8      最終的に決まらなかったものの、最後まで査定価格を上司に掛け合ってくれるなど熱意がよかった。   \n",
       "3928  2024-04-03   5.0       丁寧な対応で、こちらのワガママも聞いて頂いたうえに、価格も頑張ってくれて非常に良かった。   \n",
       "\n",
       "      result  \n",
       "3959       0  \n",
       "3931       1  \n",
       "3930       0  \n",
       "3929       0  \n",
       "3928       1  "
      ]
     },
     "execution_count": 17,
     "metadata": {},
     "output_type": "execute_result"
    }
   ],
   "source": [
    "df.head()"
   ]
  },
  {
   "cell_type": "code",
   "execution_count": 19,
   "metadata": {},
   "outputs": [],
   "source": [
    "# MeCabで形態素解析を行う\n",
    "import MeCab\n",
    "\n",
    "def mecab_text(text):\n",
    "\n",
    "    #MeCabのインスタンスを作成（辞書はmecab-ipadic-neologdを使用）\n",
    "    mecab = MeCab.Tagger('-Owakati')\n",
    "\n",
    "    #形態素解析\n",
    "    text = str(text).lower() #　追加したところ\n",
    "    node = mecab.parseToNode(text)\n",
    "\n",
    "    #形態素解析した結果を格納するリスト\n",
    "    wordlist = []\n",
    "\n",
    "    while node:\n",
    "        #名詞のみリストに格納する\n",
    "        if node.feature.split(',')[0] == '名詞':\n",
    "            wordlist.append(node.surface)\n",
    "        #形容詞を取得、elifで追加する\n",
    "        elif node.feature.split(',')[0] == '形容詞':\n",
    "            wordlist.append(node.surface)\n",
    "        #動詞を取得、elifで追加する\n",
    "        #elif node.feature.split(',')[0] == '動詞':\n",
    "            #wordlist.append(node.surface)\n",
    "        node = node.next\n",
    "    return wordlist\n",
    "\n",
    "# 形態素結果をリスト化し、データフレームdf1に結果を列追加する\n",
    "df['words_comment'] = df['comment'].apply(mecab_text)"
   ]
  },
  {
   "cell_type": "code",
   "execution_count": 20,
   "metadata": {},
   "outputs": [],
   "source": [
    "import nlplot"
   ]
  },
  {
   "cell_type": "code",
   "execution_count": 24,
   "metadata": {},
   "outputs": [
    {
     "name": "stderr",
     "output_type": "stream",
     "text": [
      "100%|██████████| 3960/3960 [00:00<00:00, 167469.36it/s]\n"
     ]
    },
    {
     "data": {
      "application/vnd.plotly.v1+json": {
       "config": {
        "plotlyServerURL": "https://plot.ly"
       },
       "data": [
        {
         "alignmentgroup": "True",
         "hovertemplate": "word_count=%{text}<br>word=%{y}<extra></extra>",
         "legendgroup": "",
         "marker": {
          "pattern": {
           "shape": ""
          }
         },
         "name": "",
         "offsetgroup": "",
         "orientation": "h",
         "showlegend": false,
         "text": [
          217,
          217,
          225,
          227,
          228,
          229,
          230,
          233,
          236,
          238,
          238,
          242,
          242,
          264,
          266,
          266,
          277,
          298,
          299,
          306,
          312,
          320,
          323,
          326,
          338,
          356,
          359,
          363,
          398,
          453,
          461,
          468,
          470,
          519,
          538,
          568,
          569,
          569,
          581,
          627,
          643,
          745,
          769,
          973,
          1034,
          1092,
          1119,
          1380,
          2240,
          2416
         ],
         "textposition": "auto",
         "texttemplate": "%{text:.2s}",
         "type": "bar",
         "x": [
          217,
          217,
          225,
          227,
          228,
          229,
          230,
          233,
          236,
          238,
          238,
          242,
          242,
          264,
          266,
          266,
          277,
          298,
          299,
          306,
          312,
          320,
          323,
          326,
          338,
          356,
          359,
          363,
          398,
          453,
          461,
          468,
          470,
          519,
          538,
          568,
          569,
          569,
          581,
          627,
          643,
          745,
          769,
          973,
          1034,
          1092,
          1119,
          1380,
          2240,
          2416
         ],
         "xaxis": "x",
         "y": [
          "契約",
          "次回",
          "相談",
          "現車",
          "万",
          "時",
          "高く",
          "口コミ",
          "社",
          "客",
          "1",
          "良く",
          "親切",
          "取引",
          "最初",
          "なく",
          "安心",
          "営業",
          "希望",
          "会社",
          "事",
          "評価",
          "説明",
          "確認",
          "弊社",
          "今回",
          "時間",
          "良い",
          "電話",
          "利用",
          "今後",
          "良かっ",
          "他社",
          "誠",
          "機会",
          "担当",
          "買取",
          "連絡",
          "満足",
          "価格",
          "こと",
          "方",
          "車",
          "度",
          "提示",
          "売却",
          "額",
          "金額",
          "対応",
          "査定"
         ],
         "yaxis": "y"
        }
       ],
       "layout": {
        "barmode": "relative",
        "height": 1100,
        "legend": {
         "tracegroupgap": 0
        },
        "margin": {
         "t": 60
        },
        "template": {
         "data": {
          "bar": [
           {
            "error_x": {
             "color": "#2a3f5f"
            },
            "error_y": {
             "color": "#2a3f5f"
            },
            "marker": {
             "line": {
              "color": "#E5ECF6",
              "width": 0.5
             },
             "pattern": {
              "fillmode": "overlay",
              "size": 10,
              "solidity": 0.2
             }
            },
            "type": "bar"
           }
          ],
          "barpolar": [
           {
            "marker": {
             "line": {
              "color": "#E5ECF6",
              "width": 0.5
             },
             "pattern": {
              "fillmode": "overlay",
              "size": 10,
              "solidity": 0.2
             }
            },
            "type": "barpolar"
           }
          ],
          "carpet": [
           {
            "aaxis": {
             "endlinecolor": "#2a3f5f",
             "gridcolor": "white",
             "linecolor": "white",
             "minorgridcolor": "white",
             "startlinecolor": "#2a3f5f"
            },
            "baxis": {
             "endlinecolor": "#2a3f5f",
             "gridcolor": "white",
             "linecolor": "white",
             "minorgridcolor": "white",
             "startlinecolor": "#2a3f5f"
            },
            "type": "carpet"
           }
          ],
          "choropleth": [
           {
            "colorbar": {
             "outlinewidth": 0,
             "ticks": ""
            },
            "type": "choropleth"
           }
          ],
          "contour": [
           {
            "colorbar": {
             "outlinewidth": 0,
             "ticks": ""
            },
            "colorscale": [
             [
              0,
              "#0d0887"
             ],
             [
              0.1111111111111111,
              "#46039f"
             ],
             [
              0.2222222222222222,
              "#7201a8"
             ],
             [
              0.3333333333333333,
              "#9c179e"
             ],
             [
              0.4444444444444444,
              "#bd3786"
             ],
             [
              0.5555555555555556,
              "#d8576b"
             ],
             [
              0.6666666666666666,
              "#ed7953"
             ],
             [
              0.7777777777777778,
              "#fb9f3a"
             ],
             [
              0.8888888888888888,
              "#fdca26"
             ],
             [
              1,
              "#f0f921"
             ]
            ],
            "type": "contour"
           }
          ],
          "contourcarpet": [
           {
            "colorbar": {
             "outlinewidth": 0,
             "ticks": ""
            },
            "type": "contourcarpet"
           }
          ],
          "heatmap": [
           {
            "colorbar": {
             "outlinewidth": 0,
             "ticks": ""
            },
            "colorscale": [
             [
              0,
              "#0d0887"
             ],
             [
              0.1111111111111111,
              "#46039f"
             ],
             [
              0.2222222222222222,
              "#7201a8"
             ],
             [
              0.3333333333333333,
              "#9c179e"
             ],
             [
              0.4444444444444444,
              "#bd3786"
             ],
             [
              0.5555555555555556,
              "#d8576b"
             ],
             [
              0.6666666666666666,
              "#ed7953"
             ],
             [
              0.7777777777777778,
              "#fb9f3a"
             ],
             [
              0.8888888888888888,
              "#fdca26"
             ],
             [
              1,
              "#f0f921"
             ]
            ],
            "type": "heatmap"
           }
          ],
          "heatmapgl": [
           {
            "colorbar": {
             "outlinewidth": 0,
             "ticks": ""
            },
            "colorscale": [
             [
              0,
              "#0d0887"
             ],
             [
              0.1111111111111111,
              "#46039f"
             ],
             [
              0.2222222222222222,
              "#7201a8"
             ],
             [
              0.3333333333333333,
              "#9c179e"
             ],
             [
              0.4444444444444444,
              "#bd3786"
             ],
             [
              0.5555555555555556,
              "#d8576b"
             ],
             [
              0.6666666666666666,
              "#ed7953"
             ],
             [
              0.7777777777777778,
              "#fb9f3a"
             ],
             [
              0.8888888888888888,
              "#fdca26"
             ],
             [
              1,
              "#f0f921"
             ]
            ],
            "type": "heatmapgl"
           }
          ],
          "histogram": [
           {
            "marker": {
             "pattern": {
              "fillmode": "overlay",
              "size": 10,
              "solidity": 0.2
             }
            },
            "type": "histogram"
           }
          ],
          "histogram2d": [
           {
            "colorbar": {
             "outlinewidth": 0,
             "ticks": ""
            },
            "colorscale": [
             [
              0,
              "#0d0887"
             ],
             [
              0.1111111111111111,
              "#46039f"
             ],
             [
              0.2222222222222222,
              "#7201a8"
             ],
             [
              0.3333333333333333,
              "#9c179e"
             ],
             [
              0.4444444444444444,
              "#bd3786"
             ],
             [
              0.5555555555555556,
              "#d8576b"
             ],
             [
              0.6666666666666666,
              "#ed7953"
             ],
             [
              0.7777777777777778,
              "#fb9f3a"
             ],
             [
              0.8888888888888888,
              "#fdca26"
             ],
             [
              1,
              "#f0f921"
             ]
            ],
            "type": "histogram2d"
           }
          ],
          "histogram2dcontour": [
           {
            "colorbar": {
             "outlinewidth": 0,
             "ticks": ""
            },
            "colorscale": [
             [
              0,
              "#0d0887"
             ],
             [
              0.1111111111111111,
              "#46039f"
             ],
             [
              0.2222222222222222,
              "#7201a8"
             ],
             [
              0.3333333333333333,
              "#9c179e"
             ],
             [
              0.4444444444444444,
              "#bd3786"
             ],
             [
              0.5555555555555556,
              "#d8576b"
             ],
             [
              0.6666666666666666,
              "#ed7953"
             ],
             [
              0.7777777777777778,
              "#fb9f3a"
             ],
             [
              0.8888888888888888,
              "#fdca26"
             ],
             [
              1,
              "#f0f921"
             ]
            ],
            "type": "histogram2dcontour"
           }
          ],
          "mesh3d": [
           {
            "colorbar": {
             "outlinewidth": 0,
             "ticks": ""
            },
            "type": "mesh3d"
           }
          ],
          "parcoords": [
           {
            "line": {
             "colorbar": {
              "outlinewidth": 0,
              "ticks": ""
             }
            },
            "type": "parcoords"
           }
          ],
          "pie": [
           {
            "automargin": true,
            "type": "pie"
           }
          ],
          "scatter": [
           {
            "fillpattern": {
             "fillmode": "overlay",
             "size": 10,
             "solidity": 0.2
            },
            "type": "scatter"
           }
          ],
          "scatter3d": [
           {
            "line": {
             "colorbar": {
              "outlinewidth": 0,
              "ticks": ""
             }
            },
            "marker": {
             "colorbar": {
              "outlinewidth": 0,
              "ticks": ""
             }
            },
            "type": "scatter3d"
           }
          ],
          "scattercarpet": [
           {
            "marker": {
             "colorbar": {
              "outlinewidth": 0,
              "ticks": ""
             }
            },
            "type": "scattercarpet"
           }
          ],
          "scattergeo": [
           {
            "marker": {
             "colorbar": {
              "outlinewidth": 0,
              "ticks": ""
             }
            },
            "type": "scattergeo"
           }
          ],
          "scattergl": [
           {
            "marker": {
             "colorbar": {
              "outlinewidth": 0,
              "ticks": ""
             }
            },
            "type": "scattergl"
           }
          ],
          "scattermapbox": [
           {
            "marker": {
             "colorbar": {
              "outlinewidth": 0,
              "ticks": ""
             }
            },
            "type": "scattermapbox"
           }
          ],
          "scatterpolar": [
           {
            "marker": {
             "colorbar": {
              "outlinewidth": 0,
              "ticks": ""
             }
            },
            "type": "scatterpolar"
           }
          ],
          "scatterpolargl": [
           {
            "marker": {
             "colorbar": {
              "outlinewidth": 0,
              "ticks": ""
             }
            },
            "type": "scatterpolargl"
           }
          ],
          "scatterternary": [
           {
            "marker": {
             "colorbar": {
              "outlinewidth": 0,
              "ticks": ""
             }
            },
            "type": "scatterternary"
           }
          ],
          "surface": [
           {
            "colorbar": {
             "outlinewidth": 0,
             "ticks": ""
            },
            "colorscale": [
             [
              0,
              "#0d0887"
             ],
             [
              0.1111111111111111,
              "#46039f"
             ],
             [
              0.2222222222222222,
              "#7201a8"
             ],
             [
              0.3333333333333333,
              "#9c179e"
             ],
             [
              0.4444444444444444,
              "#bd3786"
             ],
             [
              0.5555555555555556,
              "#d8576b"
             ],
             [
              0.6666666666666666,
              "#ed7953"
             ],
             [
              0.7777777777777778,
              "#fb9f3a"
             ],
             [
              0.8888888888888888,
              "#fdca26"
             ],
             [
              1,
              "#f0f921"
             ]
            ],
            "type": "surface"
           }
          ],
          "table": [
           {
            "cells": {
             "fill": {
              "color": "#EBF0F8"
             },
             "line": {
              "color": "white"
             }
            },
            "header": {
             "fill": {
              "color": "#C8D4E3"
             },
             "line": {
              "color": "white"
             }
            },
            "type": "table"
           }
          ]
         },
         "layout": {
          "annotationdefaults": {
           "arrowcolor": "#2a3f5f",
           "arrowhead": 0,
           "arrowwidth": 1
          },
          "autotypenumbers": "strict",
          "coloraxis": {
           "colorbar": {
            "outlinewidth": 0,
            "ticks": ""
           }
          },
          "colorscale": {
           "diverging": [
            [
             0,
             "#8e0152"
            ],
            [
             0.1,
             "#c51b7d"
            ],
            [
             0.2,
             "#de77ae"
            ],
            [
             0.3,
             "#f1b6da"
            ],
            [
             0.4,
             "#fde0ef"
            ],
            [
             0.5,
             "#f7f7f7"
            ],
            [
             0.6,
             "#e6f5d0"
            ],
            [
             0.7,
             "#b8e186"
            ],
            [
             0.8,
             "#7fbc41"
            ],
            [
             0.9,
             "#4d9221"
            ],
            [
             1,
             "#276419"
            ]
           ],
           "sequential": [
            [
             0,
             "#0d0887"
            ],
            [
             0.1111111111111111,
             "#46039f"
            ],
            [
             0.2222222222222222,
             "#7201a8"
            ],
            [
             0.3333333333333333,
             "#9c179e"
            ],
            [
             0.4444444444444444,
             "#bd3786"
            ],
            [
             0.5555555555555556,
             "#d8576b"
            ],
            [
             0.6666666666666666,
             "#ed7953"
            ],
            [
             0.7777777777777778,
             "#fb9f3a"
            ],
            [
             0.8888888888888888,
             "#fdca26"
            ],
            [
             1,
             "#f0f921"
            ]
           ],
           "sequentialminus": [
            [
             0,
             "#0d0887"
            ],
            [
             0.1111111111111111,
             "#46039f"
            ],
            [
             0.2222222222222222,
             "#7201a8"
            ],
            [
             0.3333333333333333,
             "#9c179e"
            ],
            [
             0.4444444444444444,
             "#bd3786"
            ],
            [
             0.5555555555555556,
             "#d8576b"
            ],
            [
             0.6666666666666666,
             "#ed7953"
            ],
            [
             0.7777777777777778,
             "#fb9f3a"
            ],
            [
             0.8888888888888888,
             "#fdca26"
            ],
            [
             1,
             "#f0f921"
            ]
           ]
          },
          "colorway": [
           "#636efa",
           "#EF553B",
           "#00cc96",
           "#ab63fa",
           "#FFA15A",
           "#19d3f3",
           "#FF6692",
           "#B6E880",
           "#FF97FF",
           "#FECB52"
          ],
          "font": {
           "color": "#2a3f5f"
          },
          "geo": {
           "bgcolor": "white",
           "lakecolor": "white",
           "landcolor": "#E5ECF6",
           "showlakes": true,
           "showland": true,
           "subunitcolor": "white"
          },
          "hoverlabel": {
           "align": "left"
          },
          "hovermode": "closest",
          "mapbox": {
           "style": "light"
          },
          "paper_bgcolor": "white",
          "plot_bgcolor": "#E5ECF6",
          "polar": {
           "angularaxis": {
            "gridcolor": "white",
            "linecolor": "white",
            "ticks": ""
           },
           "bgcolor": "#E5ECF6",
           "radialaxis": {
            "gridcolor": "white",
            "linecolor": "white",
            "ticks": ""
           }
          },
          "scene": {
           "xaxis": {
            "backgroundcolor": "#E5ECF6",
            "gridcolor": "white",
            "gridwidth": 2,
            "linecolor": "white",
            "showbackground": true,
            "ticks": "",
            "zerolinecolor": "white"
           },
           "yaxis": {
            "backgroundcolor": "#E5ECF6",
            "gridcolor": "white",
            "gridwidth": 2,
            "linecolor": "white",
            "showbackground": true,
            "ticks": "",
            "zerolinecolor": "white"
           },
           "zaxis": {
            "backgroundcolor": "#E5ECF6",
            "gridcolor": "white",
            "gridwidth": 2,
            "linecolor": "white",
            "showbackground": true,
            "ticks": "",
            "zerolinecolor": "white"
           }
          },
          "shapedefaults": {
           "line": {
            "color": "#2a3f5f"
           }
          },
          "ternary": {
           "aaxis": {
            "gridcolor": "white",
            "linecolor": "white",
            "ticks": ""
           },
           "baxis": {
            "gridcolor": "white",
            "linecolor": "white",
            "ticks": ""
           },
           "bgcolor": "#E5ECF6",
           "caxis": {
            "gridcolor": "white",
            "linecolor": "white",
            "ticks": ""
           }
          },
          "title": {
           "x": 0.05
          },
          "xaxis": {
           "automargin": true,
           "gridcolor": "white",
           "linecolor": "white",
           "ticks": "",
           "title": {
            "standoff": 15
           },
           "zerolinecolor": "white",
           "zerolinewidth": 2
          },
          "yaxis": {
           "automargin": true,
           "gridcolor": "white",
           "linecolor": "white",
           "ticks": "",
           "title": {
            "standoff": 15
           },
           "zerolinecolor": "white",
           "zerolinewidth": 2
          }
         }
        },
        "title": {
         "text": "uni-gram"
        },
        "width": 800,
        "xaxis": {
         "anchor": "y",
         "domain": [
          0,
          1
         ],
         "title": {
          "text": "word_count"
         }
        },
        "yaxis": {
         "anchor": "x",
         "domain": [
          0,
          1
         ],
         "title": {
          "text": "word"
         }
        }
       }
      }
     },
     "metadata": {},
     "output_type": "display_data"
    }
   ],
   "source": [
    "npt_comment = nlplot.NLPlot(df, target_col='words_comment')\n",
    "\n",
    "# top_nで頻出上位単語, min_freqで頻出下位単語を指定\n",
    "stopwords = npt_comment.get_stopword(top_n=0, min_freq=0)\n",
    "\n",
    "npt_comment.bar_ngram(\n",
    "    title='uni-gram',\n",
    "    xaxis_label='word_count',\n",
    "    yaxis_label='word',\n",
    "    ngram=1,\n",
    "    top_n=50,\n",
    "    stopwords=stopwords,\n",
    ")"
   ]
  },
  {
   "cell_type": "code",
   "execution_count": 25,
   "metadata": {},
   "outputs": [
    {
     "name": "stderr",
     "output_type": "stream",
     "text": [
      "100%|██████████| 3960/3960 [00:00<00:00, 175206.95it/s]\n"
     ]
    },
    {
     "data": {
      "application/vnd.plotly.v1+json": {
       "config": {
        "plotlyServerURL": "https://plot.ly"
       },
       "data": [
        {
         "branchvalues": "total",
         "domain": {
          "x": [
           0,
           1
          ],
          "y": [
           0,
           1
          ]
         },
         "hovertemplate": "labels=%{label}<br>word_count=%{value}<br>parent=%{parent}<br>id=%{id}<extra></extra>",
         "ids": [
          "こと",
          "事",
          "今回",
          "今後",
          "他社",
          "価格",
          "利用",
          "売却",
          "対応",
          "度",
          "弊社",
          "担当",
          "提示",
          "方",
          "時間",
          "査定",
          "機会",
          "満足",
          "確認",
          "良い",
          "良かっ",
          "評価",
          "誠",
          "説明",
          "買取",
          "車",
          "連絡",
          "金額",
          "電話",
          "額"
         ],
         "labels": [
          "こと",
          "事",
          "今回",
          "今後",
          "他社",
          "価格",
          "利用",
          "売却",
          "対応",
          "度",
          "弊社",
          "担当",
          "提示",
          "方",
          "時間",
          "査定",
          "機会",
          "満足",
          "確認",
          "良い",
          "良かっ",
          "評価",
          "誠",
          "説明",
          "買取",
          "車",
          "連絡",
          "金額",
          "電話",
          "額"
         ],
         "name": "",
         "parents": [
          "",
          "",
          "",
          "",
          "",
          "",
          "",
          "",
          "",
          "",
          "",
          "",
          "",
          "",
          "",
          "",
          "",
          "",
          "",
          "",
          "",
          "",
          "",
          "",
          "",
          "",
          "",
          "",
          "",
          ""
         ],
         "type": "treemap",
         "values": [
          643,
          312,
          356,
          461,
          470,
          627,
          453,
          1092,
          2240,
          973,
          338,
          568,
          1034,
          745,
          359,
          2416,
          538,
          581,
          326,
          363,
          468,
          320,
          519,
          323,
          569,
          769,
          569,
          1380,
          398,
          1119
         ]
        }
       ],
       "layout": {
        "height": 600,
        "legend": {
         "tracegroupgap": 0
        },
        "margin": {
         "t": 60
        },
        "template": {
         "data": {
          "bar": [
           {
            "error_x": {
             "color": "#2a3f5f"
            },
            "error_y": {
             "color": "#2a3f5f"
            },
            "marker": {
             "line": {
              "color": "#E5ECF6",
              "width": 0.5
             },
             "pattern": {
              "fillmode": "overlay",
              "size": 10,
              "solidity": 0.2
             }
            },
            "type": "bar"
           }
          ],
          "barpolar": [
           {
            "marker": {
             "line": {
              "color": "#E5ECF6",
              "width": 0.5
             },
             "pattern": {
              "fillmode": "overlay",
              "size": 10,
              "solidity": 0.2
             }
            },
            "type": "barpolar"
           }
          ],
          "carpet": [
           {
            "aaxis": {
             "endlinecolor": "#2a3f5f",
             "gridcolor": "white",
             "linecolor": "white",
             "minorgridcolor": "white",
             "startlinecolor": "#2a3f5f"
            },
            "baxis": {
             "endlinecolor": "#2a3f5f",
             "gridcolor": "white",
             "linecolor": "white",
             "minorgridcolor": "white",
             "startlinecolor": "#2a3f5f"
            },
            "type": "carpet"
           }
          ],
          "choropleth": [
           {
            "colorbar": {
             "outlinewidth": 0,
             "ticks": ""
            },
            "type": "choropleth"
           }
          ],
          "contour": [
           {
            "colorbar": {
             "outlinewidth": 0,
             "ticks": ""
            },
            "colorscale": [
             [
              0,
              "#0d0887"
             ],
             [
              0.1111111111111111,
              "#46039f"
             ],
             [
              0.2222222222222222,
              "#7201a8"
             ],
             [
              0.3333333333333333,
              "#9c179e"
             ],
             [
              0.4444444444444444,
              "#bd3786"
             ],
             [
              0.5555555555555556,
              "#d8576b"
             ],
             [
              0.6666666666666666,
              "#ed7953"
             ],
             [
              0.7777777777777778,
              "#fb9f3a"
             ],
             [
              0.8888888888888888,
              "#fdca26"
             ],
             [
              1,
              "#f0f921"
             ]
            ],
            "type": "contour"
           }
          ],
          "contourcarpet": [
           {
            "colorbar": {
             "outlinewidth": 0,
             "ticks": ""
            },
            "type": "contourcarpet"
           }
          ],
          "heatmap": [
           {
            "colorbar": {
             "outlinewidth": 0,
             "ticks": ""
            },
            "colorscale": [
             [
              0,
              "#0d0887"
             ],
             [
              0.1111111111111111,
              "#46039f"
             ],
             [
              0.2222222222222222,
              "#7201a8"
             ],
             [
              0.3333333333333333,
              "#9c179e"
             ],
             [
              0.4444444444444444,
              "#bd3786"
             ],
             [
              0.5555555555555556,
              "#d8576b"
             ],
             [
              0.6666666666666666,
              "#ed7953"
             ],
             [
              0.7777777777777778,
              "#fb9f3a"
             ],
             [
              0.8888888888888888,
              "#fdca26"
             ],
             [
              1,
              "#f0f921"
             ]
            ],
            "type": "heatmap"
           }
          ],
          "heatmapgl": [
           {
            "colorbar": {
             "outlinewidth": 0,
             "ticks": ""
            },
            "colorscale": [
             [
              0,
              "#0d0887"
             ],
             [
              0.1111111111111111,
              "#46039f"
             ],
             [
              0.2222222222222222,
              "#7201a8"
             ],
             [
              0.3333333333333333,
              "#9c179e"
             ],
             [
              0.4444444444444444,
              "#bd3786"
             ],
             [
              0.5555555555555556,
              "#d8576b"
             ],
             [
              0.6666666666666666,
              "#ed7953"
             ],
             [
              0.7777777777777778,
              "#fb9f3a"
             ],
             [
              0.8888888888888888,
              "#fdca26"
             ],
             [
              1,
              "#f0f921"
             ]
            ],
            "type": "heatmapgl"
           }
          ],
          "histogram": [
           {
            "marker": {
             "pattern": {
              "fillmode": "overlay",
              "size": 10,
              "solidity": 0.2
             }
            },
            "type": "histogram"
           }
          ],
          "histogram2d": [
           {
            "colorbar": {
             "outlinewidth": 0,
             "ticks": ""
            },
            "colorscale": [
             [
              0,
              "#0d0887"
             ],
             [
              0.1111111111111111,
              "#46039f"
             ],
             [
              0.2222222222222222,
              "#7201a8"
             ],
             [
              0.3333333333333333,
              "#9c179e"
             ],
             [
              0.4444444444444444,
              "#bd3786"
             ],
             [
              0.5555555555555556,
              "#d8576b"
             ],
             [
              0.6666666666666666,
              "#ed7953"
             ],
             [
              0.7777777777777778,
              "#fb9f3a"
             ],
             [
              0.8888888888888888,
              "#fdca26"
             ],
             [
              1,
              "#f0f921"
             ]
            ],
            "type": "histogram2d"
           }
          ],
          "histogram2dcontour": [
           {
            "colorbar": {
             "outlinewidth": 0,
             "ticks": ""
            },
            "colorscale": [
             [
              0,
              "#0d0887"
             ],
             [
              0.1111111111111111,
              "#46039f"
             ],
             [
              0.2222222222222222,
              "#7201a8"
             ],
             [
              0.3333333333333333,
              "#9c179e"
             ],
             [
              0.4444444444444444,
              "#bd3786"
             ],
             [
              0.5555555555555556,
              "#d8576b"
             ],
             [
              0.6666666666666666,
              "#ed7953"
             ],
             [
              0.7777777777777778,
              "#fb9f3a"
             ],
             [
              0.8888888888888888,
              "#fdca26"
             ],
             [
              1,
              "#f0f921"
             ]
            ],
            "type": "histogram2dcontour"
           }
          ],
          "mesh3d": [
           {
            "colorbar": {
             "outlinewidth": 0,
             "ticks": ""
            },
            "type": "mesh3d"
           }
          ],
          "parcoords": [
           {
            "line": {
             "colorbar": {
              "outlinewidth": 0,
              "ticks": ""
             }
            },
            "type": "parcoords"
           }
          ],
          "pie": [
           {
            "automargin": true,
            "type": "pie"
           }
          ],
          "scatter": [
           {
            "fillpattern": {
             "fillmode": "overlay",
             "size": 10,
             "solidity": 0.2
            },
            "type": "scatter"
           }
          ],
          "scatter3d": [
           {
            "line": {
             "colorbar": {
              "outlinewidth": 0,
              "ticks": ""
             }
            },
            "marker": {
             "colorbar": {
              "outlinewidth": 0,
              "ticks": ""
             }
            },
            "type": "scatter3d"
           }
          ],
          "scattercarpet": [
           {
            "marker": {
             "colorbar": {
              "outlinewidth": 0,
              "ticks": ""
             }
            },
            "type": "scattercarpet"
           }
          ],
          "scattergeo": [
           {
            "marker": {
             "colorbar": {
              "outlinewidth": 0,
              "ticks": ""
             }
            },
            "type": "scattergeo"
           }
          ],
          "scattergl": [
           {
            "marker": {
             "colorbar": {
              "outlinewidth": 0,
              "ticks": ""
             }
            },
            "type": "scattergl"
           }
          ],
          "scattermapbox": [
           {
            "marker": {
             "colorbar": {
              "outlinewidth": 0,
              "ticks": ""
             }
            },
            "type": "scattermapbox"
           }
          ],
          "scatterpolar": [
           {
            "marker": {
             "colorbar": {
              "outlinewidth": 0,
              "ticks": ""
             }
            },
            "type": "scatterpolar"
           }
          ],
          "scatterpolargl": [
           {
            "marker": {
             "colorbar": {
              "outlinewidth": 0,
              "ticks": ""
             }
            },
            "type": "scatterpolargl"
           }
          ],
          "scatterternary": [
           {
            "marker": {
             "colorbar": {
              "outlinewidth": 0,
              "ticks": ""
             }
            },
            "type": "scatterternary"
           }
          ],
          "surface": [
           {
            "colorbar": {
             "outlinewidth": 0,
             "ticks": ""
            },
            "colorscale": [
             [
              0,
              "#0d0887"
             ],
             [
              0.1111111111111111,
              "#46039f"
             ],
             [
              0.2222222222222222,
              "#7201a8"
             ],
             [
              0.3333333333333333,
              "#9c179e"
             ],
             [
              0.4444444444444444,
              "#bd3786"
             ],
             [
              0.5555555555555556,
              "#d8576b"
             ],
             [
              0.6666666666666666,
              "#ed7953"
             ],
             [
              0.7777777777777778,
              "#fb9f3a"
             ],
             [
              0.8888888888888888,
              "#fdca26"
             ],
             [
              1,
              "#f0f921"
             ]
            ],
            "type": "surface"
           }
          ],
          "table": [
           {
            "cells": {
             "fill": {
              "color": "#EBF0F8"
             },
             "line": {
              "color": "white"
             }
            },
            "header": {
             "fill": {
              "color": "#C8D4E3"
             },
             "line": {
              "color": "white"
             }
            },
            "type": "table"
           }
          ]
         },
         "layout": {
          "annotationdefaults": {
           "arrowcolor": "#2a3f5f",
           "arrowhead": 0,
           "arrowwidth": 1
          },
          "autotypenumbers": "strict",
          "coloraxis": {
           "colorbar": {
            "outlinewidth": 0,
            "ticks": ""
           }
          },
          "colorscale": {
           "diverging": [
            [
             0,
             "#8e0152"
            ],
            [
             0.1,
             "#c51b7d"
            ],
            [
             0.2,
             "#de77ae"
            ],
            [
             0.3,
             "#f1b6da"
            ],
            [
             0.4,
             "#fde0ef"
            ],
            [
             0.5,
             "#f7f7f7"
            ],
            [
             0.6,
             "#e6f5d0"
            ],
            [
             0.7,
             "#b8e186"
            ],
            [
             0.8,
             "#7fbc41"
            ],
            [
             0.9,
             "#4d9221"
            ],
            [
             1,
             "#276419"
            ]
           ],
           "sequential": [
            [
             0,
             "#0d0887"
            ],
            [
             0.1111111111111111,
             "#46039f"
            ],
            [
             0.2222222222222222,
             "#7201a8"
            ],
            [
             0.3333333333333333,
             "#9c179e"
            ],
            [
             0.4444444444444444,
             "#bd3786"
            ],
            [
             0.5555555555555556,
             "#d8576b"
            ],
            [
             0.6666666666666666,
             "#ed7953"
            ],
            [
             0.7777777777777778,
             "#fb9f3a"
            ],
            [
             0.8888888888888888,
             "#fdca26"
            ],
            [
             1,
             "#f0f921"
            ]
           ],
           "sequentialminus": [
            [
             0,
             "#0d0887"
            ],
            [
             0.1111111111111111,
             "#46039f"
            ],
            [
             0.2222222222222222,
             "#7201a8"
            ],
            [
             0.3333333333333333,
             "#9c179e"
            ],
            [
             0.4444444444444444,
             "#bd3786"
            ],
            [
             0.5555555555555556,
             "#d8576b"
            ],
            [
             0.6666666666666666,
             "#ed7953"
            ],
            [
             0.7777777777777778,
             "#fb9f3a"
            ],
            [
             0.8888888888888888,
             "#fdca26"
            ],
            [
             1,
             "#f0f921"
            ]
           ]
          },
          "colorway": [
           "#636efa",
           "#EF553B",
           "#00cc96",
           "#ab63fa",
           "#FFA15A",
           "#19d3f3",
           "#FF6692",
           "#B6E880",
           "#FF97FF",
           "#FECB52"
          ],
          "font": {
           "color": "#2a3f5f"
          },
          "geo": {
           "bgcolor": "white",
           "lakecolor": "white",
           "landcolor": "#E5ECF6",
           "showlakes": true,
           "showland": true,
           "subunitcolor": "white"
          },
          "hoverlabel": {
           "align": "left"
          },
          "hovermode": "closest",
          "mapbox": {
           "style": "light"
          },
          "paper_bgcolor": "white",
          "plot_bgcolor": "#E5ECF6",
          "polar": {
           "angularaxis": {
            "gridcolor": "white",
            "linecolor": "white",
            "ticks": ""
           },
           "bgcolor": "#E5ECF6",
           "radialaxis": {
            "gridcolor": "white",
            "linecolor": "white",
            "ticks": ""
           }
          },
          "scene": {
           "xaxis": {
            "backgroundcolor": "#E5ECF6",
            "gridcolor": "white",
            "gridwidth": 2,
            "linecolor": "white",
            "showbackground": true,
            "ticks": "",
            "zerolinecolor": "white"
           },
           "yaxis": {
            "backgroundcolor": "#E5ECF6",
            "gridcolor": "white",
            "gridwidth": 2,
            "linecolor": "white",
            "showbackground": true,
            "ticks": "",
            "zerolinecolor": "white"
           },
           "zaxis": {
            "backgroundcolor": "#E5ECF6",
            "gridcolor": "white",
            "gridwidth": 2,
            "linecolor": "white",
            "showbackground": true,
            "ticks": "",
            "zerolinecolor": "white"
           }
          },
          "shapedefaults": {
           "line": {
            "color": "#2a3f5f"
           }
          },
          "ternary": {
           "aaxis": {
            "gridcolor": "white",
            "linecolor": "white",
            "ticks": ""
           },
           "baxis": {
            "gridcolor": "white",
            "linecolor": "white",
            "ticks": ""
           },
           "bgcolor": "#E5ECF6",
           "caxis": {
            "gridcolor": "white",
            "linecolor": "white",
            "ticks": ""
           }
          },
          "title": {
           "x": 0.05
          },
          "xaxis": {
           "automargin": true,
           "gridcolor": "white",
           "linecolor": "white",
           "ticks": "",
           "title": {
            "standoff": 15
           },
           "zerolinecolor": "white",
           "zerolinewidth": 2
          },
          "yaxis": {
           "automargin": true,
           "gridcolor": "white",
           "linecolor": "white",
           "ticks": "",
           "title": {
            "standoff": 15
           },
           "zerolinecolor": "white",
           "zerolinewidth": 2
          }
         }
        },
        "title": {
         "text": "Tree of Most Common Words"
        },
        "width": 1300
       }
      }
     },
     "metadata": {},
     "output_type": "display_data"
    }
   ],
   "source": [
    "# 単語数の分布\n",
    "npt_comment.treemap(\n",
    "    title='Tree of Most Common Words',\n",
    "    ngram=1,\n",
    "    top_n=30,\n",
    "    stopwords=stopwords,\n",
    ")"
   ]
  },
  {
   "cell_type": "code",
   "execution_count": 26,
   "metadata": {},
   "outputs": [
    {
     "data": {
      "application/vnd.plotly.v1+json": {
       "config": {
        "plotlyServerURL": "https://plot.ly"
       },
       "data": [
        {
         "alignmentgroup": "True",
         "bingroup": "x",
         "hovertemplate": "words_comment_length=%{x}<br>count=%{y}<extra></extra>",
         "legendgroup": "",
         "marker": {
          "color": "#636efa",
          "pattern": {
           "shape": ""
          }
         },
         "name": "",
         "offsetgroup": "",
         "orientation": "v",
         "showlegend": false,
         "type": "histogram",
         "x": [
          8,
          8,
          6,
          8,
          5,
          13,
          12,
          7,
          4,
          12,
          24,
          3,
          14,
          24,
          2,
          17,
          5,
          39,
          14,
          12,
          24,
          3,
          21,
          8,
          31,
          9,
          21,
          9,
          9,
          15,
          9,
          2,
          3,
          16,
          14,
          6,
          9,
          7,
          6,
          27,
          13,
          18,
          26,
          5,
          18,
          2,
          8,
          8,
          8,
          3,
          8,
          11,
          14,
          4,
          10,
          6,
          9,
          4,
          45,
          6,
          7,
          5,
          3,
          45,
          11,
          9,
          4,
          7,
          5,
          5,
          9,
          15,
          29,
          26,
          4,
          5,
          8,
          19,
          27,
          25,
          21,
          21,
          18,
          16,
          4,
          9,
          5,
          28,
          5,
          14,
          18,
          12,
          5,
          35,
          46,
          22,
          7,
          4,
          4,
          13,
          1,
          5,
          6,
          3,
          18,
          9,
          0,
          5,
          4,
          27,
          4,
          7,
          2,
          14,
          5,
          4,
          15,
          9,
          15,
          14,
          3,
          6,
          10,
          4,
          29,
          47,
          7,
          26,
          9,
          4,
          21,
          3,
          32,
          11,
          8,
          5,
          4,
          18,
          5,
          15,
          9,
          6,
          1,
          17,
          12,
          9,
          33,
          27,
          27,
          1,
          9,
          24,
          39,
          14,
          26,
          20,
          37,
          12,
          14,
          14,
          20,
          47,
          26,
          6,
          5,
          8,
          30,
          12,
          7,
          6,
          5,
          5,
          7,
          11,
          6,
          8,
          34,
          6,
          8,
          28,
          12,
          11,
          15,
          7,
          15,
          15,
          43,
          22,
          4,
          5,
          3,
          4,
          3,
          50,
          6,
          7,
          4,
          10,
          57,
          1,
          23,
          5,
          8,
          5,
          12,
          22,
          14,
          3,
          11,
          3,
          13,
          26,
          12,
          16,
          2,
          3,
          13,
          5,
          18,
          6,
          7,
          7,
          7,
          6,
          8,
          9,
          24,
          7,
          4,
          3,
          11,
          19,
          18,
          20,
          14,
          33,
          4,
          8,
          26,
          9,
          13,
          2,
          10,
          10,
          4,
          7,
          3,
          8,
          12,
          10,
          8,
          14,
          16,
          3,
          54,
          12,
          9,
          8,
          4,
          31,
          28,
          16,
          9,
          6,
          4,
          13,
          3,
          11,
          6,
          5,
          16,
          1,
          2,
          9,
          21,
          9,
          3,
          12,
          6,
          40,
          12,
          2,
          5,
          63,
          5,
          48,
          6,
          6,
          16,
          7,
          2,
          10,
          10,
          4,
          24,
          28,
          10,
          4,
          5,
          11,
          16,
          6,
          6,
          4,
          2,
          8,
          51,
          5,
          3,
          33,
          11,
          11,
          11,
          5,
          3,
          22,
          4,
          12,
          5,
          20,
          18,
          2,
          4,
          10,
          12,
          6,
          20,
          27,
          10,
          107,
          5,
          31,
          7,
          4,
          13,
          23,
          25,
          8,
          4,
          37,
          4,
          4,
          3,
          38,
          31,
          4,
          36,
          12,
          7,
          11,
          16,
          17,
          18,
          12,
          10,
          11,
          22,
          33,
          8,
          3,
          15,
          43,
          8,
          13,
          9,
          15,
          2,
          2,
          3,
          4,
          17,
          9,
          17,
          31,
          2,
          10,
          4,
          6,
          7,
          4,
          16,
          1,
          2,
          6,
          16,
          5,
          4,
          84,
          26,
          27,
          16,
          21,
          4,
          7,
          6,
          8,
          35,
          12,
          7,
          7,
          5,
          8,
          3,
          125,
          9,
          2,
          22,
          2,
          7,
          7,
          11,
          6,
          14,
          2,
          27,
          6,
          11,
          3,
          3,
          34,
          8,
          6,
          15,
          28,
          5,
          7,
          4,
          6,
          4,
          5,
          5,
          22,
          5,
          5,
          13,
          2,
          17,
          11,
          12,
          7,
          7,
          6,
          9,
          8,
          2,
          8,
          7,
          14,
          8,
          8,
          12,
          3,
          3,
          4,
          28,
          28,
          7,
          5,
          4,
          5,
          4,
          4,
          16,
          8,
          14,
          2,
          6,
          12,
          10,
          4,
          4,
          5,
          8,
          26,
          21,
          51,
          3,
          14,
          3,
          7,
          12,
          4,
          6,
          7,
          5,
          17,
          23,
          9,
          2,
          4,
          2,
          6,
          3,
          9,
          9,
          6,
          6,
          8,
          18,
          6,
          12,
          23,
          16,
          9,
          7,
          7,
          4,
          11,
          4,
          13,
          7,
          15,
          8,
          3,
          8,
          7,
          16,
          12,
          4,
          13,
          19,
          3,
          11,
          3,
          4,
          28,
          7,
          14,
          20,
          33,
          4,
          15,
          6,
          4,
          34,
          22,
          1,
          32,
          6,
          7,
          31,
          13,
          22,
          13,
          11,
          4,
          43,
          7,
          18,
          23,
          15,
          4,
          10,
          20,
          10,
          13,
          13,
          10,
          8,
          8,
          20,
          18,
          18,
          6,
          5,
          10,
          8,
          5,
          4,
          27,
          19,
          6,
          10,
          19,
          15,
          2,
          8,
          1,
          4,
          7,
          3,
          9,
          8,
          4,
          6,
          16,
          5,
          11,
          9,
          4,
          7,
          6,
          10,
          12,
          6,
          23,
          11,
          23,
          10,
          9,
          21,
          8,
          7,
          5,
          11,
          22,
          41,
          4,
          31,
          37,
          12,
          3,
          7,
          7,
          5,
          13,
          20,
          36,
          14,
          5,
          17,
          10,
          5,
          34,
          32,
          5,
          9,
          4,
          10,
          24,
          14,
          12,
          7,
          11,
          6,
          28,
          42,
          4,
          3,
          9,
          12,
          4,
          6,
          7,
          17,
          3,
          23,
          11,
          10,
          17,
          21,
          4,
          12,
          42,
          12,
          12,
          35,
          26,
          37,
          2,
          17,
          13,
          28,
          20,
          5,
          18,
          4,
          5,
          20,
          7,
          7,
          5,
          7,
          6,
          6,
          10,
          2,
          12,
          18,
          10,
          13,
          21,
          32,
          6,
          21,
          36,
          14,
          19,
          30,
          7,
          4,
          19,
          19,
          24,
          4,
          13,
          8,
          5,
          17,
          22,
          4,
          6,
          4,
          55,
          5,
          8,
          14,
          4,
          15,
          7,
          7,
          13,
          38,
          4,
          13,
          29,
          12,
          28,
          12,
          6,
          14,
          11,
          23,
          51,
          10,
          3,
          28,
          37,
          17,
          21,
          3,
          9,
          6,
          19,
          19,
          3,
          3,
          53,
          30,
          7,
          5,
          3,
          6,
          4,
          66,
          45,
          43,
          6,
          5,
          22,
          6,
          6,
          6,
          19,
          13,
          43,
          2,
          6,
          4,
          5,
          15,
          27,
          5,
          16,
          39,
          9,
          53,
          5,
          31,
          2,
          14,
          4,
          7,
          14,
          25,
          21,
          5,
          18,
          7,
          7,
          4,
          7,
          10,
          12,
          6,
          2,
          19,
          3,
          10,
          17,
          14,
          5,
          3,
          2,
          23,
          29,
          12,
          23,
          5,
          5,
          4,
          6,
          10,
          10,
          19,
          2,
          12,
          12,
          6,
          22,
          5,
          14,
          15,
          4,
          7,
          2,
          6,
          4,
          60,
          9,
          43,
          4,
          21,
          6,
          23,
          8,
          8,
          19,
          6,
          2,
          4,
          5,
          24,
          16,
          11,
          25,
          3,
          6,
          1,
          5,
          3,
          19,
          7,
          5,
          6,
          5,
          4,
          4,
          23,
          29,
          22,
          7,
          32,
          3,
          33,
          42,
          8,
          5,
          10,
          10,
          11,
          7,
          14,
          67,
          8,
          15,
          39,
          4,
          4,
          6,
          5,
          14,
          44,
          4,
          4,
          26,
          8,
          2,
          2,
          19,
          15,
          12,
          6,
          15,
          20,
          6,
          3,
          8,
          2,
          15,
          3,
          6,
          7,
          3,
          18,
          21,
          7,
          8,
          2,
          2,
          5,
          3,
          11,
          17,
          5,
          27,
          13,
          6,
          12,
          14,
          26,
          5,
          2,
          24,
          12,
          6,
          14,
          2,
          55,
          4,
          40,
          5,
          8,
          3,
          8,
          5,
          31,
          7,
          19,
          9,
          12,
          14,
          19,
          4,
          5,
          11,
          29,
          16,
          29,
          23,
          13,
          14,
          21,
          4,
          6,
          43,
          4,
          8,
          8,
          4,
          19,
          21,
          8,
          5,
          4,
          54,
          10,
          31,
          31,
          11,
          3,
          8,
          3,
          15,
          12,
          18,
          38,
          32,
          6,
          15,
          36,
          26,
          6,
          7,
          9,
          28,
          17,
          12,
          6,
          10,
          9,
          32,
          41,
          22,
          6,
          7,
          7,
          4,
          3,
          3,
          10,
          6,
          33,
          5,
          4,
          10,
          10,
          13,
          2,
          22,
          15,
          3,
          6,
          10,
          8,
          14,
          28,
          7,
          3,
          3,
          13,
          6,
          28,
          6,
          44,
          2,
          2,
          26,
          4,
          6,
          5,
          29,
          11,
          8,
          7,
          20,
          3,
          4,
          7,
          7,
          13,
          8,
          1,
          3,
          6,
          10,
          7,
          6,
          1,
          6,
          6,
          7,
          13,
          32,
          14,
          15,
          24,
          25,
          17,
          12,
          8,
          15,
          21,
          9,
          8,
          17,
          22,
          2,
          1,
          4,
          12,
          21,
          46,
          13,
          8,
          6,
          4,
          20,
          24,
          9,
          3,
          26,
          16,
          8,
          4,
          17,
          11,
          6,
          9,
          5,
          20,
          26,
          10,
          13,
          159,
          36,
          40,
          23,
          23,
          6,
          2,
          9,
          6,
          9,
          24,
          6,
          7,
          8,
          9,
          2,
          8,
          7,
          4,
          9,
          23,
          3,
          14,
          14,
          7,
          11,
          3,
          4,
          5,
          17,
          8,
          6,
          6,
          14,
          5,
          51,
          37,
          21,
          24,
          5,
          50,
          13,
          20,
          14,
          2,
          6,
          3,
          3,
          1,
          6,
          23,
          7,
          14,
          36,
          4,
          2,
          5,
          6,
          22,
          7,
          6,
          25,
          48,
          20,
          6,
          22,
          16,
          9,
          2,
          21,
          2,
          19,
          2,
          5,
          37,
          11,
          16,
          12,
          4,
          6,
          21,
          32,
          32,
          51,
          22,
          29,
          9,
          6,
          4,
          3,
          31,
          12,
          10,
          16,
          25,
          9,
          13,
          38,
          6,
          12,
          6,
          4,
          17,
          4,
          34,
          17,
          22,
          25,
          5,
          5,
          6,
          5,
          2,
          42,
          4,
          16,
          9,
          12,
          9,
          35,
          5,
          10,
          43,
          14,
          22,
          27,
          3,
          25,
          7,
          6,
          26,
          3,
          6,
          14,
          27,
          26,
          42,
          32,
          7,
          6,
          4,
          20,
          71,
          30,
          12,
          3,
          8,
          40,
          6,
          2,
          53,
          6,
          1,
          33,
          17,
          15,
          34,
          3,
          41,
          58,
          9,
          2,
          7,
          2,
          68,
          40,
          10,
          14,
          4,
          11,
          10,
          5,
          21,
          19,
          9,
          5,
          9,
          25,
          7,
          4,
          7,
          7,
          25,
          6,
          7,
          19,
          31,
          9,
          21,
          4,
          53,
          6,
          17,
          9,
          10,
          7,
          38,
          25,
          22,
          5,
          5,
          3,
          10,
          14,
          17,
          3,
          4,
          6,
          58,
          21,
          4,
          8,
          13,
          14,
          21,
          8,
          9,
          4,
          4,
          6,
          14,
          11,
          10,
          10,
          48,
          56,
          7,
          8,
          16,
          5,
          22,
          24,
          31,
          6,
          16,
          54,
          8,
          12,
          15,
          3,
          5,
          15,
          9,
          13,
          4,
          18,
          33,
          7,
          6,
          3,
          4,
          23,
          7,
          18,
          5,
          2,
          6,
          19,
          44,
          9,
          15,
          40,
          80,
          23,
          1,
          8,
          27,
          3,
          5,
          39,
          7,
          1,
          7,
          6,
          12,
          3,
          9,
          6,
          3,
          35,
          86,
          4,
          20,
          15,
          26,
          12,
          69,
          2,
          27,
          5,
          4,
          16,
          11,
          17,
          10,
          8,
          4,
          6,
          25,
          17,
          10,
          2,
          19,
          26,
          20,
          16,
          9,
          13,
          15,
          7,
          3,
          2,
          5,
          3,
          7,
          13,
          11,
          14,
          2,
          5,
          7,
          15,
          6,
          6,
          8,
          62,
          5,
          10,
          8,
          17,
          14,
          8,
          17,
          2,
          21,
          7,
          9,
          4,
          14,
          15,
          5,
          45,
          2,
          10,
          10,
          6,
          10,
          3,
          9,
          15,
          15,
          4,
          39,
          13,
          2,
          39,
          8,
          14,
          22,
          30,
          9,
          14,
          38,
          30,
          23,
          73,
          23,
          55,
          16,
          58,
          4,
          7,
          7,
          23,
          33,
          6,
          14,
          4,
          6,
          5,
          9,
          16,
          17,
          16,
          6,
          20,
          6,
          21,
          22,
          17,
          4,
          18,
          4,
          6,
          24,
          10,
          36,
          11,
          18,
          20,
          33,
          8,
          10,
          6,
          1,
          15,
          24,
          15,
          10,
          19,
          30,
          6,
          5,
          5,
          8,
          4,
          7,
          32,
          12,
          22,
          16,
          1,
          5,
          15,
          34,
          4,
          4,
          9,
          8,
          15,
          21,
          34,
          7,
          35,
          13,
          25,
          2,
          26,
          10,
          2,
          10,
          8,
          6,
          5,
          11,
          5,
          8,
          10,
          5,
          7,
          19,
          1,
          17,
          18,
          11,
          24,
          8,
          1,
          43,
          12,
          16,
          20,
          15,
          9,
          10,
          29,
          13,
          2,
          3,
          6,
          26,
          8,
          24,
          13,
          32,
          12,
          12,
          21,
          22,
          16,
          9,
          4,
          6,
          5,
          25,
          13,
          3,
          24,
          20,
          7,
          15,
          54,
          12,
          37,
          18,
          32,
          4,
          17,
          24,
          9,
          6,
          3,
          5,
          30,
          10,
          24,
          8,
          7,
          19,
          4,
          6,
          5,
          4,
          8,
          22,
          17,
          17,
          25,
          6,
          4,
          7,
          15,
          10,
          42,
          12,
          10,
          5,
          3,
          14,
          34,
          10,
          46,
          7,
          7,
          3,
          38,
          3,
          6,
          13,
          28,
          14,
          3,
          14,
          3,
          13,
          6,
          4,
          18,
          5,
          3,
          9,
          5,
          28,
          6,
          11,
          9,
          15,
          11,
          2,
          56,
          5,
          1,
          15,
          10,
          2,
          4,
          35,
          26,
          18,
          15,
          47,
          9,
          9,
          8,
          8,
          15,
          5,
          47,
          42,
          5,
          5,
          41,
          6,
          6,
          9,
          7,
          10,
          15,
          7,
          15,
          5,
          30,
          6,
          27,
          6,
          6,
          10,
          20,
          8,
          6,
          6,
          37,
          5,
          12,
          29,
          11,
          13,
          37,
          20,
          13,
          14,
          2,
          11,
          10,
          42,
          3,
          3,
          9,
          9,
          6,
          6,
          16,
          17,
          12,
          18,
          14,
          21,
          15,
          33,
          4,
          71,
          5,
          6,
          5,
          7,
          2,
          23,
          17,
          17,
          21,
          6,
          10,
          4,
          19,
          8,
          13,
          16,
          14,
          9,
          4,
          14,
          21,
          4,
          17,
          24,
          13,
          8,
          14,
          29,
          13,
          27,
          5,
          7,
          5,
          21,
          4,
          13,
          34,
          4,
          3,
          41,
          6,
          2,
          10,
          3,
          5,
          24,
          14,
          6,
          4,
          13,
          6,
          4,
          9,
          7,
          30,
          1,
          4,
          37,
          30,
          5,
          24,
          28,
          6,
          5,
          8,
          3,
          21,
          34,
          30,
          7,
          10,
          15,
          12,
          32,
          33,
          14,
          7,
          16,
          23,
          4,
          8,
          15,
          15,
          2,
          4,
          6,
          5,
          26,
          13,
          8,
          12,
          33,
          19,
          3,
          8,
          17,
          12,
          26,
          3,
          18,
          1,
          4,
          32,
          4,
          11,
          7,
          10,
          13,
          0,
          17,
          2,
          5,
          25,
          24,
          4,
          16,
          9,
          17,
          24,
          10,
          6,
          5,
          18,
          27,
          3,
          22,
          27,
          24,
          3,
          5,
          16,
          10,
          5,
          5,
          7,
          4,
          42,
          17,
          4,
          81,
          29,
          9,
          8,
          3,
          5,
          3,
          7,
          54,
          20,
          23,
          29,
          17,
          13,
          4,
          9,
          3,
          4,
          3,
          3,
          4,
          20,
          8,
          6,
          10,
          9,
          67,
          16,
          9,
          17,
          5,
          9,
          16,
          6,
          8,
          6,
          36,
          5,
          4,
          6,
          6,
          11,
          14,
          28,
          22,
          3,
          4,
          5,
          6,
          9,
          10,
          7,
          10,
          6,
          2,
          3,
          4,
          9,
          59,
          1,
          1,
          1,
          1,
          11,
          5,
          6,
          2,
          16,
          4,
          43,
          7,
          15,
          19,
          6,
          12,
          46,
          29,
          1,
          23,
          4,
          79,
          5,
          3,
          5,
          59,
          35,
          19,
          8,
          17,
          8,
          8,
          23,
          5,
          13,
          5,
          5,
          13,
          16,
          5,
          7,
          12,
          1,
          8,
          14,
          7,
          8,
          4,
          1,
          7,
          39,
          4,
          8,
          5,
          49,
          19,
          20,
          5,
          24,
          10,
          16,
          36,
          8,
          15,
          3,
          27,
          41,
          21,
          7,
          24,
          40,
          20,
          7,
          6,
          9,
          8,
          25,
          13,
          7,
          3,
          3,
          7,
          14,
          46,
          5,
          6,
          15,
          7,
          23,
          13,
          4,
          20,
          11,
          43,
          5,
          56,
          17,
          8,
          7,
          3,
          11,
          8,
          11,
          9,
          4,
          8,
          8,
          19,
          14,
          15,
          3,
          10,
          5,
          17,
          7,
          1,
          16,
          8,
          4,
          3,
          3,
          2,
          4,
          13,
          8,
          3,
          9,
          5,
          5,
          53,
          6,
          6,
          7,
          8,
          11,
          2,
          6,
          9,
          11,
          21,
          8,
          5,
          7,
          6,
          37,
          2,
          20,
          5,
          10,
          20,
          11,
          15,
          4,
          9,
          33,
          5,
          41,
          24,
          3,
          6,
          17,
          40,
          42,
          6,
          7,
          15,
          12,
          3,
          4,
          14,
          17,
          4,
          4,
          10,
          16,
          24,
          3,
          16,
          18,
          5,
          5,
          7,
          3,
          8,
          17,
          19,
          26,
          7,
          36,
          37,
          22,
          7,
          21,
          4,
          2,
          12,
          2,
          4,
          5,
          31,
          7,
          12,
          2,
          36,
          7,
          8,
          6,
          132,
          8,
          17,
          24,
          4,
          12,
          1,
          2,
          5,
          2,
          41,
          14,
          18,
          37,
          21,
          32,
          4,
          26,
          9,
          24,
          5,
          21,
          8,
          4,
          8,
          15,
          4,
          5,
          4,
          31,
          32,
          37,
          20,
          10,
          4,
          3,
          17,
          20,
          9,
          51,
          11,
          22,
          18,
          29,
          18,
          5,
          19,
          6,
          1,
          5,
          31,
          28,
          9,
          21,
          27,
          5,
          24,
          7,
          32,
          58,
          4,
          11,
          13,
          28,
          10,
          1,
          20,
          34,
          1,
          12,
          13,
          12,
          10,
          33,
          41,
          42,
          9,
          7,
          9,
          7,
          23,
          5,
          191,
          23,
          5,
          29,
          20,
          89,
          1,
          25,
          5,
          10,
          6,
          4,
          3,
          18,
          31,
          52,
          19,
          19,
          48,
          25,
          8,
          5,
          7,
          13,
          7,
          35,
          8,
          2,
          26,
          11,
          5,
          20,
          21,
          13,
          2,
          2,
          7,
          5,
          10,
          12,
          4,
          16,
          14,
          6,
          11,
          14,
          19,
          22,
          24,
          20,
          23,
          33,
          30,
          14,
          14,
          4,
          7,
          6,
          4,
          15,
          56,
          16,
          10,
          28,
          17,
          6,
          8,
          9,
          5,
          4,
          30,
          36,
          2,
          4,
          3,
          5,
          4,
          19,
          16,
          7,
          11,
          5,
          8,
          35,
          13,
          17,
          13,
          5,
          35,
          6,
          15,
          2,
          7,
          8,
          0,
          12,
          12,
          25,
          7,
          61,
          19,
          6,
          5,
          3,
          5,
          7,
          12,
          9,
          11,
          3,
          5,
          18,
          4,
          3,
          3,
          11,
          18,
          11,
          5,
          8,
          4,
          11,
          6,
          41,
          22,
          6,
          1,
          15,
          12,
          20,
          25,
          38,
          44,
          5,
          5,
          11,
          21,
          6,
          41,
          15,
          5,
          6,
          21,
          3,
          11,
          3,
          8,
          8,
          15,
          1,
          8,
          52,
          24,
          3,
          5,
          14,
          3,
          13,
          43,
          5,
          6,
          26,
          39,
          8,
          15,
          10,
          22,
          22,
          11,
          3,
          1,
          6,
          10,
          10,
          7,
          7,
          6,
          39,
          11,
          9,
          13,
          13,
          5,
          26,
          34,
          44,
          55,
          19,
          24,
          2,
          26,
          17,
          19,
          3,
          1,
          52,
          40,
          3,
          7,
          5,
          18,
          7,
          2,
          2,
          8,
          35,
          3,
          8,
          9,
          21,
          6,
          7,
          13,
          3,
          6,
          24,
          33,
          14,
          18,
          3,
          5,
          9,
          13,
          15,
          6,
          10,
          7,
          4,
          34,
          17,
          11,
          30,
          40,
          2,
          4,
          7,
          34,
          28,
          9,
          5,
          24,
          11,
          26,
          6,
          13,
          3,
          9,
          9,
          6,
          11,
          12,
          24,
          5,
          6,
          6,
          5,
          11,
          28,
          7,
          19,
          24,
          11,
          4,
          12,
          7,
          17,
          7,
          28,
          7,
          5,
          7,
          6,
          32,
          10,
          7,
          13,
          3,
          5,
          54,
          14,
          17,
          4,
          4,
          20,
          9,
          6,
          10,
          16,
          8,
          2,
          5,
          26,
          3,
          30,
          29,
          7,
          7,
          5,
          3,
          10,
          10,
          12,
          4,
          3,
          4,
          2,
          3,
          6,
          5,
          11,
          4,
          7,
          4,
          16,
          12,
          9,
          6,
          5,
          2,
          1,
          5,
          21,
          3,
          7,
          2,
          6,
          12,
          9,
          6,
          6,
          12,
          7,
          21,
          9,
          38,
          28,
          5,
          14,
          5,
          8,
          63,
          15,
          10,
          8,
          7,
          16,
          12,
          3,
          7,
          1,
          37,
          4,
          16,
          16,
          10,
          9,
          5,
          14,
          14,
          28,
          12,
          13,
          3,
          17,
          5,
          5,
          2,
          0,
          11,
          3,
          6,
          29,
          28,
          9,
          34,
          11,
          27,
          9,
          6,
          10,
          9,
          3,
          12,
          4,
          8,
          12,
          49,
          4,
          13,
          5,
          6,
          6,
          12,
          18,
          4,
          55,
          17,
          9,
          24,
          4,
          11,
          16,
          10,
          4,
          5,
          4,
          21,
          16,
          20,
          9,
          5,
          20,
          12,
          11,
          7,
          19,
          3,
          1,
          6,
          1,
          20,
          23,
          12,
          5,
          4,
          11,
          4,
          5,
          7,
          31,
          1,
          6,
          38,
          6,
          13,
          46,
          6,
          2,
          9,
          21,
          6,
          7,
          4,
          6,
          33,
          6,
          7,
          3,
          10,
          1,
          42,
          9,
          21,
          24,
          14,
          3,
          5,
          5,
          9,
          5,
          29,
          6,
          20,
          6,
          21,
          36,
          22,
          104,
          20,
          13,
          50,
          46,
          113,
          23,
          25,
          54,
          21,
          7,
          22,
          13,
          13,
          8,
          12,
          10,
          4,
          4,
          64,
          9,
          14,
          2,
          44,
          4,
          4,
          2,
          7,
          2,
          4,
          0,
          6,
          5,
          17,
          7,
          17,
          19,
          5,
          4,
          4,
          5,
          18,
          6,
          71,
          2,
          2,
          13,
          5,
          3,
          2,
          2,
          8,
          4,
          6,
          9,
          10,
          3,
          13,
          8,
          6,
          4,
          2,
          5,
          11,
          7,
          2,
          15,
          22,
          2,
          2,
          8,
          23,
          13,
          10,
          5,
          20,
          15,
          4,
          21,
          5,
          19,
          28,
          6,
          6,
          9,
          5,
          5,
          60,
          2,
          2,
          24,
          15,
          8,
          1,
          6,
          8,
          17,
          5,
          18,
          4,
          1,
          44,
          50,
          28,
          37,
          6,
          15,
          12,
          23,
          5,
          7,
          1,
          4,
          3,
          10,
          4,
          4,
          19,
          18,
          38,
          52,
          8,
          15,
          13,
          4,
          7,
          4,
          8,
          10,
          6,
          6,
          20,
          10,
          7,
          7,
          4,
          5,
          55,
          34,
          23,
          8,
          4,
          6,
          9,
          28,
          24,
          27,
          6,
          43,
          31,
          16,
          6,
          10,
          22,
          7,
          6,
          12,
          4,
          32,
          8,
          5,
          5,
          17,
          4,
          2,
          4,
          2,
          3,
          42,
          20,
          30,
          6,
          13,
          26,
          28,
          2,
          21,
          33,
          9,
          8,
          4,
          6,
          4,
          8,
          10,
          4,
          4,
          15,
          12,
          4,
          15,
          25,
          21,
          14,
          7,
          7,
          8,
          5,
          6,
          5,
          3,
          3,
          4,
          6,
          8,
          23,
          2,
          4,
          16,
          44,
          39,
          12,
          8,
          36,
          1,
          15,
          8,
          42,
          63,
          13,
          4,
          29,
          8,
          4,
          2,
          4,
          8,
          42,
          8,
          15,
          2,
          12,
          19,
          4,
          11,
          10,
          3,
          7,
          20,
          19,
          8,
          22,
          6,
          5,
          12,
          22,
          25,
          22,
          32,
          18,
          23,
          18,
          6,
          14,
          14,
          11,
          23,
          39,
          10,
          14,
          34,
          7,
          8,
          4,
          8,
          5,
          5,
          16,
          7,
          3,
          6,
          5,
          11,
          6,
          14,
          3,
          6,
          13,
          10,
          10,
          3,
          4,
          43,
          5,
          15,
          12,
          7,
          14,
          12,
          42,
          4,
          46,
          4,
          10,
          18,
          9,
          34,
          29,
          46,
          8,
          26,
          1,
          21,
          2,
          12,
          8,
          8,
          55,
          5,
          3,
          26,
          20,
          7,
          27,
          7,
          3,
          3,
          7,
          8,
          8,
          14,
          32,
          5,
          79,
          16,
          7,
          5,
          31,
          32,
          16,
          9,
          6,
          12,
          18,
          4,
          23,
          12,
          5,
          18,
          12,
          5,
          4,
          19,
          32,
          22,
          21,
          6,
          6,
          6,
          21,
          1,
          15,
          17,
          9,
          12,
          5,
          3,
          8,
          13,
          11,
          23,
          3,
          4,
          1,
          2,
          4,
          7,
          6,
          10,
          3,
          2,
          42,
          8,
          7,
          26,
          5,
          5,
          4,
          6,
          2,
          8,
          8,
          13,
          8,
          7,
          10,
          21,
          32,
          4,
          31,
          12,
          4,
          40,
          10,
          36,
          12,
          12,
          6,
          15,
          9,
          6,
          6,
          6,
          13,
          9,
          12,
          3,
          10,
          21,
          19,
          42,
          10,
          8,
          26,
          10,
          13,
          18,
          5,
          26,
          11,
          10,
          4,
          12,
          7,
          6,
          5,
          20,
          8,
          41,
          2,
          11,
          32,
          15,
          4,
          3,
          12,
          30,
          127,
          21,
          10,
          3,
          5,
          5,
          33,
          3,
          24,
          15,
          18,
          2,
          4,
          21,
          17,
          25,
          3,
          12,
          17,
          16,
          7,
          76,
          2,
          4,
          11,
          20,
          6,
          9,
          5,
          3,
          11,
          48,
          12,
          5,
          7,
          3,
          16,
          11,
          12,
          56,
          25,
          19,
          5,
          7,
          25,
          7,
          9,
          14,
          9,
          5,
          3,
          13,
          16,
          9,
          36,
          4,
          7,
          11,
          9,
          11,
          12,
          14,
          10,
          35,
          13,
          19,
          39,
          10,
          6,
          2,
          7,
          6,
          25,
          17,
          38,
          45,
          30,
          17,
          11,
          16,
          21,
          13,
          15,
          5,
          6,
          19,
          30,
          6,
          8,
          40,
          11,
          11,
          11,
          4,
          4,
          3,
          19,
          3,
          44,
          16,
          4,
          4,
          6,
          2,
          8,
          7,
          6,
          22,
          2,
          19,
          12,
          16,
          3,
          15,
          2,
          6,
          12,
          8,
          4,
          3,
          5,
          7,
          8,
          7,
          14,
          26,
          14,
          8,
          5,
          5,
          5,
          6,
          9,
          6,
          3,
          8,
          33,
          5,
          14,
          18,
          3,
          5,
          33,
          19,
          24,
          21,
          14,
          6,
          8,
          7,
          7,
          3,
          7,
          11,
          11,
          23,
          9,
          2,
          19,
          10,
          7,
          22,
          7,
          10,
          4,
          5,
          6,
          2,
          26,
          7,
          12,
          11,
          10,
          24,
          6,
          8,
          3,
          5,
          5,
          29,
          43,
          1,
          6,
          6,
          14,
          5,
          7,
          14,
          27,
          2,
          21,
          12,
          2,
          6,
          20,
          8,
          6,
          1,
          3,
          5,
          11,
          43,
          15,
          25,
          12,
          13,
          17,
          5,
          49,
          2,
          9,
          25,
          19,
          40,
          8,
          1,
          21,
          3,
          51,
          9,
          11,
          22,
          45,
          4,
          13,
          2,
          9,
          6,
          4,
          25,
          34,
          4,
          9,
          3,
          28,
          5,
          28,
          5,
          8,
          5,
          6,
          6,
          14,
          4,
          80,
          4,
          16,
          9,
          21,
          4,
          3,
          9,
          6,
          7,
          16,
          3,
          17,
          6,
          10,
          22,
          11,
          8,
          8,
          7,
          29,
          10,
          3,
          7,
          31,
          8,
          9,
          17,
          15,
          4,
          8,
          57,
          9,
          9,
          29,
          23,
          7,
          4,
          27,
          36,
          34,
          13,
          7,
          6,
          26,
          10,
          17,
          4,
          18,
          31,
          10,
          1,
          12,
          13,
          5,
          1,
          17,
          31,
          12,
          21,
          8,
          16,
          8,
          15,
          10,
          4,
          4,
          6,
          11,
          6,
          6,
          25,
          11,
          4,
          15,
          32,
          42,
          6,
          13,
          3,
          3,
          4,
          6,
          4,
          20,
          20,
          9,
          13,
          3,
          10,
          7,
          2,
          5,
          17,
          21,
          27,
          13,
          8,
          3,
          3,
          2,
          1,
          8,
          5,
          10,
          22,
          6,
          8,
          8,
          11,
          21,
          16,
          43,
          25,
          12,
          29,
          20,
          7,
          126,
          2,
          12,
          5,
          5,
          15,
          8,
          8,
          9,
          3,
          10,
          10,
          17,
          6,
          18,
          8,
          30,
          5,
          1,
          3,
          22,
          29,
          11,
          9,
          19,
          23,
          6,
          3,
          4,
          10,
          10,
          37,
          15,
          50,
          66,
          11,
          5,
          18,
          3,
          7,
          12,
          7,
          21,
          12,
          6,
          8,
          12,
          19,
          32,
          6,
          6,
          8,
          21,
          11,
          3,
          6,
          6,
          16,
          19,
          10,
          13,
          7,
          13,
          5,
          6,
          16,
          3,
          3,
          3,
          24,
          6,
          10,
          8,
          14,
          8,
          8,
          2,
          14,
          25,
          25,
          16,
          2,
          2,
          3,
          3,
          5,
          2,
          5,
          5,
          13,
          5,
          3,
          3,
          7,
          3,
          6,
          21,
          2,
          6,
          8,
          14,
          5,
          5,
          34,
          1,
          5,
          16,
          6,
          12,
          19,
          17,
          22,
          15,
          22,
          11,
          21,
          13,
          11,
          8,
          5,
          7,
          1,
          10,
          11,
          22,
          10,
          4,
          15,
          8,
          13,
          23,
          18,
          12,
          3,
          8,
          3,
          28,
          3,
          6,
          8,
          6,
          21,
          72,
          6,
          8,
          24,
          9,
          11,
          6,
          4,
          6,
          8,
          28,
          5,
          4,
          6,
          4,
          8,
          6,
          10,
          11,
          7,
          7,
          4,
          6,
          2,
          8,
          6,
          13,
          3,
          9,
          19,
          10,
          2,
          9,
          16,
          28,
          12,
          9,
          11,
          8,
          62,
          4,
          8,
          12,
          11,
          5,
          11,
          4,
          19,
          6,
          22,
          6,
          7,
          4,
          20,
          11,
          12,
          10,
          21,
          12,
          23,
          23,
          12,
          15,
          40,
          33,
          13,
          7,
          3,
          11,
          16,
          23,
          5,
          4,
          6,
          6,
          4,
          9,
          3,
          21,
          2,
          12,
          15,
          6,
          11,
          9,
          15,
          5,
          9,
          33,
          11,
          9,
          16,
          10,
          10,
          4,
          8,
          13,
          8,
          8,
          8,
          3,
          16,
          4,
          4,
          13,
          10,
          12,
          7,
          4,
          18,
          2,
          2,
          2,
          13,
          33,
          3,
          27,
          15,
          26,
          3,
          9,
          6,
          11,
          13,
          6,
          3,
          5,
          2,
          29,
          18,
          5,
          6,
          2,
          18,
          4,
          5,
          50,
          5,
          4,
          4,
          15,
          5,
          8,
          5,
          11,
          5,
          8,
          4,
          19,
          23,
          15,
          8,
          8,
          7,
          2,
          19,
          4,
          2,
          7,
          6,
          6,
          8,
          6,
          7,
          5,
          21,
          19,
          18,
          4,
          5,
          13,
          13,
          4,
          23,
          4,
          6,
          3,
          9,
          3,
          20,
          9,
          9,
          3,
          12,
          4,
          2,
          4,
          6,
          7,
          2,
          8,
          2,
          21,
          10,
          6,
          44,
          20,
          50,
          93,
          38,
          7,
          14,
          11,
          12,
          8,
          3,
          14,
          13,
          8,
          6,
          4,
          7,
          3,
          8,
          1,
          3,
          13,
          13,
          37,
          3,
          24,
          40,
          44,
          47,
          7,
          2,
          31,
          29,
          3,
          6,
          23,
          12,
          87,
          7,
          74,
          6,
          12,
          5,
          3,
          4,
          8,
          25,
          10,
          14,
          5,
          13,
          16,
          19,
          37,
          41,
          6,
          4,
          8,
          54,
          6,
          5,
          7,
          9,
          5,
          7,
          12,
          10,
          6,
          10,
          3,
          4,
          13,
          54,
          6,
          5,
          6,
          5,
          8,
          10,
          17,
          4,
          5,
          14,
          97,
          8,
          7,
          4,
          4,
          16,
          16,
          8,
          22,
          19,
          13,
          11,
          10,
          7,
          12,
          4,
          28,
          2,
          27,
          28,
          13,
          4,
          7,
          24,
          20,
          22,
          8,
          13,
          11,
          7,
          7,
          10,
          3,
          42,
          3,
          41,
          29,
          8,
          12,
          6,
          5,
          9,
          19,
          6,
          15,
          6,
          17,
          6,
          8,
          2,
          22,
          11,
          9,
          46,
          5,
          4,
          23,
          1,
          29,
          25,
          7,
          15,
          72,
          12,
          12,
          28,
          9,
          40,
          82,
          14,
          3,
          17
         ],
         "xaxis": "x",
         "yaxis": "y"
        }
       ],
       "layout": {
        "barmode": "relative",
        "height": 600,
        "legend": {
         "tracegroupgap": 0
        },
        "margin": {
         "t": 60
        },
        "template": {
         "data": {
          "bar": [
           {
            "error_x": {
             "color": "#2a3f5f"
            },
            "error_y": {
             "color": "#2a3f5f"
            },
            "marker": {
             "line": {
              "color": "#E5ECF6",
              "width": 0.5
             },
             "pattern": {
              "fillmode": "overlay",
              "size": 10,
              "solidity": 0.2
             }
            },
            "type": "bar"
           }
          ],
          "barpolar": [
           {
            "marker": {
             "line": {
              "color": "#E5ECF6",
              "width": 0.5
             },
             "pattern": {
              "fillmode": "overlay",
              "size": 10,
              "solidity": 0.2
             }
            },
            "type": "barpolar"
           }
          ],
          "carpet": [
           {
            "aaxis": {
             "endlinecolor": "#2a3f5f",
             "gridcolor": "white",
             "linecolor": "white",
             "minorgridcolor": "white",
             "startlinecolor": "#2a3f5f"
            },
            "baxis": {
             "endlinecolor": "#2a3f5f",
             "gridcolor": "white",
             "linecolor": "white",
             "minorgridcolor": "white",
             "startlinecolor": "#2a3f5f"
            },
            "type": "carpet"
           }
          ],
          "choropleth": [
           {
            "colorbar": {
             "outlinewidth": 0,
             "ticks": ""
            },
            "type": "choropleth"
           }
          ],
          "contour": [
           {
            "colorbar": {
             "outlinewidth": 0,
             "ticks": ""
            },
            "colorscale": [
             [
              0,
              "#0d0887"
             ],
             [
              0.1111111111111111,
              "#46039f"
             ],
             [
              0.2222222222222222,
              "#7201a8"
             ],
             [
              0.3333333333333333,
              "#9c179e"
             ],
             [
              0.4444444444444444,
              "#bd3786"
             ],
             [
              0.5555555555555556,
              "#d8576b"
             ],
             [
              0.6666666666666666,
              "#ed7953"
             ],
             [
              0.7777777777777778,
              "#fb9f3a"
             ],
             [
              0.8888888888888888,
              "#fdca26"
             ],
             [
              1,
              "#f0f921"
             ]
            ],
            "type": "contour"
           }
          ],
          "contourcarpet": [
           {
            "colorbar": {
             "outlinewidth": 0,
             "ticks": ""
            },
            "type": "contourcarpet"
           }
          ],
          "heatmap": [
           {
            "colorbar": {
             "outlinewidth": 0,
             "ticks": ""
            },
            "colorscale": [
             [
              0,
              "#0d0887"
             ],
             [
              0.1111111111111111,
              "#46039f"
             ],
             [
              0.2222222222222222,
              "#7201a8"
             ],
             [
              0.3333333333333333,
              "#9c179e"
             ],
             [
              0.4444444444444444,
              "#bd3786"
             ],
             [
              0.5555555555555556,
              "#d8576b"
             ],
             [
              0.6666666666666666,
              "#ed7953"
             ],
             [
              0.7777777777777778,
              "#fb9f3a"
             ],
             [
              0.8888888888888888,
              "#fdca26"
             ],
             [
              1,
              "#f0f921"
             ]
            ],
            "type": "heatmap"
           }
          ],
          "heatmapgl": [
           {
            "colorbar": {
             "outlinewidth": 0,
             "ticks": ""
            },
            "colorscale": [
             [
              0,
              "#0d0887"
             ],
             [
              0.1111111111111111,
              "#46039f"
             ],
             [
              0.2222222222222222,
              "#7201a8"
             ],
             [
              0.3333333333333333,
              "#9c179e"
             ],
             [
              0.4444444444444444,
              "#bd3786"
             ],
             [
              0.5555555555555556,
              "#d8576b"
             ],
             [
              0.6666666666666666,
              "#ed7953"
             ],
             [
              0.7777777777777778,
              "#fb9f3a"
             ],
             [
              0.8888888888888888,
              "#fdca26"
             ],
             [
              1,
              "#f0f921"
             ]
            ],
            "type": "heatmapgl"
           }
          ],
          "histogram": [
           {
            "marker": {
             "pattern": {
              "fillmode": "overlay",
              "size": 10,
              "solidity": 0.2
             }
            },
            "type": "histogram"
           }
          ],
          "histogram2d": [
           {
            "colorbar": {
             "outlinewidth": 0,
             "ticks": ""
            },
            "colorscale": [
             [
              0,
              "#0d0887"
             ],
             [
              0.1111111111111111,
              "#46039f"
             ],
             [
              0.2222222222222222,
              "#7201a8"
             ],
             [
              0.3333333333333333,
              "#9c179e"
             ],
             [
              0.4444444444444444,
              "#bd3786"
             ],
             [
              0.5555555555555556,
              "#d8576b"
             ],
             [
              0.6666666666666666,
              "#ed7953"
             ],
             [
              0.7777777777777778,
              "#fb9f3a"
             ],
             [
              0.8888888888888888,
              "#fdca26"
             ],
             [
              1,
              "#f0f921"
             ]
            ],
            "type": "histogram2d"
           }
          ],
          "histogram2dcontour": [
           {
            "colorbar": {
             "outlinewidth": 0,
             "ticks": ""
            },
            "colorscale": [
             [
              0,
              "#0d0887"
             ],
             [
              0.1111111111111111,
              "#46039f"
             ],
             [
              0.2222222222222222,
              "#7201a8"
             ],
             [
              0.3333333333333333,
              "#9c179e"
             ],
             [
              0.4444444444444444,
              "#bd3786"
             ],
             [
              0.5555555555555556,
              "#d8576b"
             ],
             [
              0.6666666666666666,
              "#ed7953"
             ],
             [
              0.7777777777777778,
              "#fb9f3a"
             ],
             [
              0.8888888888888888,
              "#fdca26"
             ],
             [
              1,
              "#f0f921"
             ]
            ],
            "type": "histogram2dcontour"
           }
          ],
          "mesh3d": [
           {
            "colorbar": {
             "outlinewidth": 0,
             "ticks": ""
            },
            "type": "mesh3d"
           }
          ],
          "parcoords": [
           {
            "line": {
             "colorbar": {
              "outlinewidth": 0,
              "ticks": ""
             }
            },
            "type": "parcoords"
           }
          ],
          "pie": [
           {
            "automargin": true,
            "type": "pie"
           }
          ],
          "scatter": [
           {
            "fillpattern": {
             "fillmode": "overlay",
             "size": 10,
             "solidity": 0.2
            },
            "type": "scatter"
           }
          ],
          "scatter3d": [
           {
            "line": {
             "colorbar": {
              "outlinewidth": 0,
              "ticks": ""
             }
            },
            "marker": {
             "colorbar": {
              "outlinewidth": 0,
              "ticks": ""
             }
            },
            "type": "scatter3d"
           }
          ],
          "scattercarpet": [
           {
            "marker": {
             "colorbar": {
              "outlinewidth": 0,
              "ticks": ""
             }
            },
            "type": "scattercarpet"
           }
          ],
          "scattergeo": [
           {
            "marker": {
             "colorbar": {
              "outlinewidth": 0,
              "ticks": ""
             }
            },
            "type": "scattergeo"
           }
          ],
          "scattergl": [
           {
            "marker": {
             "colorbar": {
              "outlinewidth": 0,
              "ticks": ""
             }
            },
            "type": "scattergl"
           }
          ],
          "scattermapbox": [
           {
            "marker": {
             "colorbar": {
              "outlinewidth": 0,
              "ticks": ""
             }
            },
            "type": "scattermapbox"
           }
          ],
          "scatterpolar": [
           {
            "marker": {
             "colorbar": {
              "outlinewidth": 0,
              "ticks": ""
             }
            },
            "type": "scatterpolar"
           }
          ],
          "scatterpolargl": [
           {
            "marker": {
             "colorbar": {
              "outlinewidth": 0,
              "ticks": ""
             }
            },
            "type": "scatterpolargl"
           }
          ],
          "scatterternary": [
           {
            "marker": {
             "colorbar": {
              "outlinewidth": 0,
              "ticks": ""
             }
            },
            "type": "scatterternary"
           }
          ],
          "surface": [
           {
            "colorbar": {
             "outlinewidth": 0,
             "ticks": ""
            },
            "colorscale": [
             [
              0,
              "#0d0887"
             ],
             [
              0.1111111111111111,
              "#46039f"
             ],
             [
              0.2222222222222222,
              "#7201a8"
             ],
             [
              0.3333333333333333,
              "#9c179e"
             ],
             [
              0.4444444444444444,
              "#bd3786"
             ],
             [
              0.5555555555555556,
              "#d8576b"
             ],
             [
              0.6666666666666666,
              "#ed7953"
             ],
             [
              0.7777777777777778,
              "#fb9f3a"
             ],
             [
              0.8888888888888888,
              "#fdca26"
             ],
             [
              1,
              "#f0f921"
             ]
            ],
            "type": "surface"
           }
          ],
          "table": [
           {
            "cells": {
             "fill": {
              "color": "#EBF0F8"
             },
             "line": {
              "color": "white"
             }
            },
            "header": {
             "fill": {
              "color": "#C8D4E3"
             },
             "line": {
              "color": "white"
             }
            },
            "type": "table"
           }
          ]
         },
         "layout": {
          "annotationdefaults": {
           "arrowcolor": "#2a3f5f",
           "arrowhead": 0,
           "arrowwidth": 1
          },
          "autotypenumbers": "strict",
          "coloraxis": {
           "colorbar": {
            "outlinewidth": 0,
            "ticks": ""
           }
          },
          "colorscale": {
           "diverging": [
            [
             0,
             "#8e0152"
            ],
            [
             0.1,
             "#c51b7d"
            ],
            [
             0.2,
             "#de77ae"
            ],
            [
             0.3,
             "#f1b6da"
            ],
            [
             0.4,
             "#fde0ef"
            ],
            [
             0.5,
             "#f7f7f7"
            ],
            [
             0.6,
             "#e6f5d0"
            ],
            [
             0.7,
             "#b8e186"
            ],
            [
             0.8,
             "#7fbc41"
            ],
            [
             0.9,
             "#4d9221"
            ],
            [
             1,
             "#276419"
            ]
           ],
           "sequential": [
            [
             0,
             "#0d0887"
            ],
            [
             0.1111111111111111,
             "#46039f"
            ],
            [
             0.2222222222222222,
             "#7201a8"
            ],
            [
             0.3333333333333333,
             "#9c179e"
            ],
            [
             0.4444444444444444,
             "#bd3786"
            ],
            [
             0.5555555555555556,
             "#d8576b"
            ],
            [
             0.6666666666666666,
             "#ed7953"
            ],
            [
             0.7777777777777778,
             "#fb9f3a"
            ],
            [
             0.8888888888888888,
             "#fdca26"
            ],
            [
             1,
             "#f0f921"
            ]
           ],
           "sequentialminus": [
            [
             0,
             "#0d0887"
            ],
            [
             0.1111111111111111,
             "#46039f"
            ],
            [
             0.2222222222222222,
             "#7201a8"
            ],
            [
             0.3333333333333333,
             "#9c179e"
            ],
            [
             0.4444444444444444,
             "#bd3786"
            ],
            [
             0.5555555555555556,
             "#d8576b"
            ],
            [
             0.6666666666666666,
             "#ed7953"
            ],
            [
             0.7777777777777778,
             "#fb9f3a"
            ],
            [
             0.8888888888888888,
             "#fdca26"
            ],
            [
             1,
             "#f0f921"
            ]
           ]
          },
          "colorway": [
           "#636efa",
           "#EF553B",
           "#00cc96",
           "#ab63fa",
           "#FFA15A",
           "#19d3f3",
           "#FF6692",
           "#B6E880",
           "#FF97FF",
           "#FECB52"
          ],
          "font": {
           "color": "#2a3f5f"
          },
          "geo": {
           "bgcolor": "white",
           "lakecolor": "white",
           "landcolor": "#E5ECF6",
           "showlakes": true,
           "showland": true,
           "subunitcolor": "white"
          },
          "hoverlabel": {
           "align": "left"
          },
          "hovermode": "closest",
          "mapbox": {
           "style": "light"
          },
          "paper_bgcolor": "white",
          "plot_bgcolor": "#E5ECF6",
          "polar": {
           "angularaxis": {
            "gridcolor": "white",
            "linecolor": "white",
            "ticks": ""
           },
           "bgcolor": "#E5ECF6",
           "radialaxis": {
            "gridcolor": "white",
            "linecolor": "white",
            "ticks": ""
           }
          },
          "scene": {
           "xaxis": {
            "backgroundcolor": "#E5ECF6",
            "gridcolor": "white",
            "gridwidth": 2,
            "linecolor": "white",
            "showbackground": true,
            "ticks": "",
            "zerolinecolor": "white"
           },
           "yaxis": {
            "backgroundcolor": "#E5ECF6",
            "gridcolor": "white",
            "gridwidth": 2,
            "linecolor": "white",
            "showbackground": true,
            "ticks": "",
            "zerolinecolor": "white"
           },
           "zaxis": {
            "backgroundcolor": "#E5ECF6",
            "gridcolor": "white",
            "gridwidth": 2,
            "linecolor": "white",
            "showbackground": true,
            "ticks": "",
            "zerolinecolor": "white"
           }
          },
          "shapedefaults": {
           "line": {
            "color": "#2a3f5f"
           }
          },
          "ternary": {
           "aaxis": {
            "gridcolor": "white",
            "linecolor": "white",
            "ticks": ""
           },
           "baxis": {
            "gridcolor": "white",
            "linecolor": "white",
            "ticks": ""
           },
           "bgcolor": "#E5ECF6",
           "caxis": {
            "gridcolor": "white",
            "linecolor": "white",
            "ticks": ""
           }
          },
          "title": {
           "x": 0.05
          },
          "xaxis": {
           "automargin": true,
           "gridcolor": "white",
           "linecolor": "white",
           "ticks": "",
           "title": {
            "standoff": 15
           },
           "zerolinecolor": "white",
           "zerolinewidth": 2
          },
          "yaxis": {
           "automargin": true,
           "gridcolor": "white",
           "linecolor": "white",
           "ticks": "",
           "title": {
            "standoff": 15
           },
           "zerolinecolor": "white",
           "zerolinewidth": 2
          }
         }
        },
        "title": {
         "text": "number of words distribution"
        },
        "width": 1000,
        "xaxis": {
         "anchor": "y",
         "domain": [
          0,
          1
         ],
         "title": {
          "text": "count"
         }
        },
        "yaxis": {
         "anchor": "x",
         "domain": [
          0,
          1
         ],
         "title": {
          "text": ""
         }
        }
       }
      }
     },
     "metadata": {},
     "output_type": "display_data"
    }
   ],
   "source": [
    "npt_comment.word_distribution(\n",
    "    title='number of words distribution',\n",
    "    xaxis_label='count',\n",
    ")"
   ]
  },
  {
   "cell_type": "code",
   "execution_count": 27,
   "metadata": {},
   "outputs": [
    {
     "data": {
      "text/plain": [
       "<wordcloud.wordcloud.WordCloud at 0x17e5e4b50>"
      ]
     },
     "execution_count": 27,
     "metadata": {},
     "output_type": "execute_result"
    }
   ],
   "source": [
    "npt_comment.wordcloud(\n",
    "    stopwords=stopwords,\n",
    "    width=100,\n",
    "    height=600,\n",
    "    max_words=100,\n",
    "    max_font_size=100,\n",
    "    colormap='tab20_r',\n",
    "    mask_file=None,\n",
    "    save=True\n",
    ")"
   ]
  },
  {
   "cell_type": "code",
   "execution_count": 29,
   "metadata": {},
   "outputs": [],
   "source": [
    "df1 = df[df[\"result\"]==1]\n",
    "df0 = df[df[\"result\"]==0]"
   ]
  },
  {
   "cell_type": "code",
   "execution_count": 31,
   "metadata": {},
   "outputs": [
    {
     "data": {
      "text/html": [
       "<div>\n",
       "<style scoped>\n",
       "    .dataframe tbody tr th:only-of-type {\n",
       "        vertical-align: middle;\n",
       "    }\n",
       "\n",
       "    .dataframe tbody tr th {\n",
       "        vertical-align: top;\n",
       "    }\n",
       "\n",
       "    .dataframe thead th {\n",
       "        text-align: right;\n",
       "    }\n",
       "</style>\n",
       "<table border=\"1\" class=\"dataframe\">\n",
       "  <thead>\n",
       "    <tr style=\"text-align: right;\">\n",
       "      <th></th>\n",
       "      <th>rate</th>\n",
       "      <th>result</th>\n",
       "    </tr>\n",
       "  </thead>\n",
       "  <tbody>\n",
       "    <tr>\n",
       "      <th>count</th>\n",
       "      <td>2094.000000</td>\n",
       "      <td>2094.0</td>\n",
       "    </tr>\n",
       "    <tr>\n",
       "      <th>mean</th>\n",
       "      <td>4.818195</td>\n",
       "      <td>1.0</td>\n",
       "    </tr>\n",
       "    <tr>\n",
       "      <th>std</th>\n",
       "      <td>0.469996</td>\n",
       "      <td>0.0</td>\n",
       "    </tr>\n",
       "    <tr>\n",
       "      <th>min</th>\n",
       "      <td>0.300000</td>\n",
       "      <td>1.0</td>\n",
       "    </tr>\n",
       "    <tr>\n",
       "      <th>25%</th>\n",
       "      <td>5.000000</td>\n",
       "      <td>1.0</td>\n",
       "    </tr>\n",
       "    <tr>\n",
       "      <th>50%</th>\n",
       "      <td>5.000000</td>\n",
       "      <td>1.0</td>\n",
       "    </tr>\n",
       "    <tr>\n",
       "      <th>75%</th>\n",
       "      <td>5.000000</td>\n",
       "      <td>1.0</td>\n",
       "    </tr>\n",
       "    <tr>\n",
       "      <th>max</th>\n",
       "      <td>5.000000</td>\n",
       "      <td>1.0</td>\n",
       "    </tr>\n",
       "  </tbody>\n",
       "</table>\n",
       "</div>"
      ],
      "text/plain": [
       "              rate  result\n",
       "count  2094.000000  2094.0\n",
       "mean      4.818195     1.0\n",
       "std       0.469996     0.0\n",
       "min       0.300000     1.0\n",
       "25%       5.000000     1.0\n",
       "50%       5.000000     1.0\n",
       "75%       5.000000     1.0\n",
       "max       5.000000     1.0"
      ]
     },
     "execution_count": 31,
     "metadata": {},
     "output_type": "execute_result"
    }
   ],
   "source": [
    "df1.describe()"
   ]
  },
  {
   "cell_type": "code",
   "execution_count": 32,
   "metadata": {},
   "outputs": [
    {
     "data": {
      "text/html": [
       "<div>\n",
       "<style scoped>\n",
       "    .dataframe tbody tr th:only-of-type {\n",
       "        vertical-align: middle;\n",
       "    }\n",
       "\n",
       "    .dataframe tbody tr th {\n",
       "        vertical-align: top;\n",
       "    }\n",
       "\n",
       "    .dataframe thead th {\n",
       "        text-align: right;\n",
       "    }\n",
       "</style>\n",
       "<table border=\"1\" class=\"dataframe\">\n",
       "  <thead>\n",
       "    <tr style=\"text-align: right;\">\n",
       "      <th></th>\n",
       "      <th>rate</th>\n",
       "      <th>result</th>\n",
       "    </tr>\n",
       "  </thead>\n",
       "  <tbody>\n",
       "    <tr>\n",
       "      <th>count</th>\n",
       "      <td>1866.000000</td>\n",
       "      <td>1866.0</td>\n",
       "    </tr>\n",
       "    <tr>\n",
       "      <th>mean</th>\n",
       "      <td>3.701018</td>\n",
       "      <td>0.0</td>\n",
       "    </tr>\n",
       "    <tr>\n",
       "      <th>std</th>\n",
       "      <td>1.405727</td>\n",
       "      <td>0.0</td>\n",
       "    </tr>\n",
       "    <tr>\n",
       "      <th>min</th>\n",
       "      <td>0.000000</td>\n",
       "      <td>0.0</td>\n",
       "    </tr>\n",
       "    <tr>\n",
       "      <th>25%</th>\n",
       "      <td>2.700000</td>\n",
       "      <td>0.0</td>\n",
       "    </tr>\n",
       "    <tr>\n",
       "      <th>50%</th>\n",
       "      <td>4.200000</td>\n",
       "      <td>0.0</td>\n",
       "    </tr>\n",
       "    <tr>\n",
       "      <th>75%</th>\n",
       "      <td>5.000000</td>\n",
       "      <td>0.0</td>\n",
       "    </tr>\n",
       "    <tr>\n",
       "      <th>max</th>\n",
       "      <td>5.000000</td>\n",
       "      <td>0.0</td>\n",
       "    </tr>\n",
       "  </tbody>\n",
       "</table>\n",
       "</div>"
      ],
      "text/plain": [
       "              rate  result\n",
       "count  1866.000000  1866.0\n",
       "mean      3.701018     0.0\n",
       "std       1.405727     0.0\n",
       "min       0.000000     0.0\n",
       "25%       2.700000     0.0\n",
       "50%       4.200000     0.0\n",
       "75%       5.000000     0.0\n",
       "max       5.000000     0.0"
      ]
     },
     "execution_count": 32,
     "metadata": {},
     "output_type": "execute_result"
    }
   ],
   "source": [
    "df0.describe()"
   ]
  },
  {
   "cell_type": "code",
   "execution_count": 36,
   "metadata": {},
   "outputs": [
    {
     "data": {
      "text/html": [
       "<div>\n",
       "<style scoped>\n",
       "    .dataframe tbody tr th:only-of-type {\n",
       "        vertical-align: middle;\n",
       "    }\n",
       "\n",
       "    .dataframe tbody tr th {\n",
       "        vertical-align: top;\n",
       "    }\n",
       "\n",
       "    .dataframe thead th {\n",
       "        text-align: right;\n",
       "    }\n",
       "</style>\n",
       "<table border=\"1\" class=\"dataframe\">\n",
       "  <thead>\n",
       "    <tr style=\"text-align: right;\">\n",
       "      <th></th>\n",
       "      <th>date</th>\n",
       "      <th>rate</th>\n",
       "      <th>comment</th>\n",
       "      <th>result</th>\n",
       "      <th>words_comment</th>\n",
       "    </tr>\n",
       "  </thead>\n",
       "  <tbody>\n",
       "    <tr>\n",
       "      <th>3959</th>\n",
       "      <td>2024-04-03</td>\n",
       "      <td>5.0</td>\n",
       "      <td>頑張ってはくれようとするが、結果は伴わず最終提示の額も条件ありでした。期待するが残念な結果です。</td>\n",
       "      <td>0</td>\n",
       "      <td>[結果, 最終, 提示, 額, 条件, あり, 期待, 結果]</td>\n",
       "    </tr>\n",
       "    <tr>\n",
       "      <th>3930</th>\n",
       "      <td>2024-04-03</td>\n",
       "      <td>4.3</td>\n",
       "      <td>丁寧な対応で良かったが、買取価格は、ここで乗換えれば更に高くなるという条件付きだったのが残念...</td>\n",
       "      <td>0</td>\n",
       "      <td>[対応, 良かっ, 買取, 価格, 高く, 条件]</td>\n",
       "    </tr>\n",
       "    <tr>\n",
       "      <th>3929</th>\n",
       "      <td>2024-04-03</td>\n",
       "      <td>4.8</td>\n",
       "      <td>最終的に決まらなかったものの、最後まで査定価格を上司に掛け合ってくれるなど熱意がよかった。</td>\n",
       "      <td>0</td>\n",
       "      <td>[最終, もの, 最後, 査定, 価格, 上司, 熱意, よかっ]</td>\n",
       "    </tr>\n",
       "    <tr>\n",
       "      <th>3926</th>\n",
       "      <td>2024-04-03</td>\n",
       "      <td>5.0</td>\n",
       "      <td>ネクステージ姫路店　廣瀬さんに査定して頂きました。欲しい車があったのですが、タイミング合わず...</td>\n",
       "      <td>0</td>\n",
       "      <td>[ネクステージ, 姫路, 廣瀬, 査定, 欲しい, 車, タイミング, 見送り, 査定, 感...</td>\n",
       "    </tr>\n",
       "    <tr>\n",
       "      <th>3924</th>\n",
       "      <td>2024-04-03</td>\n",
       "      <td>5.0</td>\n",
       "      <td>丁寧に対応していただき店舗の雰囲気も良かったです。</td>\n",
       "      <td>0</td>\n",
       "      <td>[対応, 店舗, 雰囲気, 良かっ]</td>\n",
       "    </tr>\n",
       "  </tbody>\n",
       "</table>\n",
       "</div>"
      ],
      "text/plain": [
       "            date  rate                                            comment  \\\n",
       "3959  2024-04-03   5.0   頑張ってはくれようとするが、結果は伴わず最終提示の額も条件ありでした。期待するが残念な結果です。   \n",
       "3930  2024-04-03   4.3  丁寧な対応で良かったが、買取価格は、ここで乗換えれば更に高くなるという条件付きだったのが残念...   \n",
       "3929  2024-04-03   4.8      最終的に決まらなかったものの、最後まで査定価格を上司に掛け合ってくれるなど熱意がよかった。   \n",
       "3926  2024-04-03   5.0  ネクステージ姫路店　廣瀬さんに査定して頂きました。欲しい車があったのですが、タイミング合わず...   \n",
       "3924  2024-04-03   5.0                          丁寧に対応していただき店舗の雰囲気も良かったです。   \n",
       "\n",
       "      result                                      words_comment  \n",
       "3959       0                    [結果, 最終, 提示, 額, 条件, あり, 期待, 結果]  \n",
       "3930       0                          [対応, 良かっ, 買取, 価格, 高く, 条件]  \n",
       "3929       0                  [最終, もの, 最後, 査定, 価格, 上司, 熱意, よかっ]  \n",
       "3926       0  [ネクステージ, 姫路, 廣瀬, 査定, 欲しい, 車, タイミング, 見送り, 査定, 感...  \n",
       "3924       0                                 [対応, 店舗, 雰囲気, 良かっ]  "
      ]
     },
     "execution_count": 36,
     "metadata": {},
     "output_type": "execute_result"
    }
   ],
   "source": []
  },
  {
   "cell_type": "code",
   "execution_count": 50,
   "metadata": {},
   "outputs": [
    {
     "data": {
      "text/plain": [
       "Text(0, 0.5, 'Number of reviews')"
      ]
     },
     "execution_count": 50,
     "metadata": {},
     "output_type": "execute_result"
    },
    {
     "data": {
      "image/png": "[encoded data removed]",
      "text/plain": [
       "<Figure size 864x432 with 2 Axes>"
      ]
     },
     "metadata": {},
     "output_type": "display_data"
    }
   ],
   "source": [
    "values_1, counts_1 = np.unique(df1['rate'], return_counts=True)\n",
    "values_2, counts_2 = np.unique(df0['rate'], return_counts=True)\n",
    "x1 = np.array(values_1)\n",
    "x2 = np.array(values_2)\n",
    "y1 = np.array(counts_1)\n",
    "y2 = np.array(counts_2)\n",
    "\n",
    "fig = plt.figure(figsize = (12,6))\n",
    "ax1 = fig.add_subplot(1, 2, 1)\n",
    "ax2 = fig.add_subplot(1, 2, 2)\n",
    "plt.subplots_adjust(wspace=0.5, hspace=0.5)\n",
    "\n",
    "plt.suptitle('Distribution of Rates')\n",
    "ax1.set_title('HANEDA Excel Hotel Tokyu')\n",
    "ax2.set_title('The Royal Park Hotel Tokyo Haneda')\n",
    "\n",
    "ax1.set_ylabel('Number of reviews')\n",
    "ax2.set_ylabel('Number of reviews')\n"
   ]
  },
  {
   "cell_type": "code",
   "execution_count": 52,
   "metadata": {},
   "outputs": [
    {
     "data": {
      "image/png": "[encoded data removed]",
      "text/plain": [
       "<Figure size 432x288 with 1 Axes>"
      ]
     },
     "metadata": {},
     "output_type": "display_data"
    }
   ],
   "source": [
    "plt.hist(df0[\"rate\"],label=\"0\",alpha=0.5)\n",
    "plt.hist(df1[\"rate\"],label=\"1\",alpha=0.5)\n",
    "plt.legend()\n",
    "plt.show()"
   ]
  },
  {
   "cell_type": "code",
   "execution_count": 62,
   "metadata": {},
   "outputs": [
    {
     "name": "stderr",
     "output_type": "stream",
     "text": [
      "/var/folders/84/r3ff3p5977l5y2fvhc9v0xxh0000gn/T/ipykernel_20577/679246003.py:2: SettingWithCopyWarning:\n",
      "\n",
      "\n",
      "A value is trying to be set on a copy of a slice from a DataFrame.\n",
      "Try using .loc[row_indexer,col_indexer] = value instead\n",
      "\n",
      "See the caveats in the documentation: https://pandas.pydata.org/pandas-docs/stable/user_guide/indexing.html#returning-a-view-versus-a-copy\n",
      "\n",
      "/var/folders/84/r3ff3p5977l5y2fvhc9v0xxh0000gn/T/ipykernel_20577/679246003.py:3: SettingWithCopyWarning:\n",
      "\n",
      "\n",
      "A value is trying to be set on a copy of a slice from a DataFrame.\n",
      "Try using .loc[row_indexer,col_indexer] = value instead\n",
      "\n",
      "See the caveats in the documentation: https://pandas.pydata.org/pandas-docs/stable/user_guide/indexing.html#returning-a-view-versus-a-copy\n",
      "\n"
     ]
    }
   ],
   "source": [
    "# Create new column \"Target\" that stored 0's or 1's. 0 being Negative, 1 being Positive\n",
    "df1[\"Target\"] = np.where(df1[\"rate\"] >= 4, 1, 0)\n",
    "df0[\"Target\"] = np.where(df0[\"rate\"] >= 4, 1, 0)\n",
    "\n",
    "# Picking the only text and target column\n",
    "df1_final = df1[['comment']]\n",
    "df0_final = df0[['comment']]\n",
    "df3_final = df[['comment','result']]"
   ]
  },
  {
   "cell_type": "code",
   "execution_count": 63,
   "metadata": {},
   "outputs": [
    {
     "data": {
      "text/html": [
       "<div>\n",
       "<style scoped>\n",
       "    .dataframe tbody tr th:only-of-type {\n",
       "        vertical-align: middle;\n",
       "    }\n",
       "\n",
       "    .dataframe tbody tr th {\n",
       "        vertical-align: top;\n",
       "    }\n",
       "\n",
       "    .dataframe thead th {\n",
       "        text-align: right;\n",
       "    }\n",
       "</style>\n",
       "<table border=\"1\" class=\"dataframe\">\n",
       "  <thead>\n",
       "    <tr style=\"text-align: right;\">\n",
       "      <th></th>\n",
       "      <th>comment</th>\n",
       "    </tr>\n",
       "  </thead>\n",
       "  <tbody>\n",
       "    <tr>\n",
       "      <th>3931</th>\n",
       "      <td>誠実な対応と過不足ない説明で不安なく売却出来ました。</td>\n",
       "    </tr>\n",
       "    <tr>\n",
       "      <th>3928</th>\n",
       "      <td>丁寧な対応で、こちらのワガママも聞いて頂いたうえに、価格も頑張ってくれて非常に良かった。</td>\n",
       "    </tr>\n",
       "    <tr>\n",
       "      <th>3927</th>\n",
       "      <td>ビックモーター白浜店の梶原さんに査定して頂き、かなり頑張って下さいました。あと、欲しい車と下...</td>\n",
       "    </tr>\n",
       "    <tr>\n",
       "      <th>3925</th>\n",
       "      <td>買取価格が一番高かったので買取していただきました。買取の手続きも丁寧に教えていただきスムーズ...</td>\n",
       "    </tr>\n",
       "    <tr>\n",
       "      <th>3923</th>\n",
       "      <td>神奈川まで来て貰え、納税負担ではあったが手元に納得いく金額を残して貰えた。営業の方が雨で寒い...</td>\n",
       "    </tr>\n",
       "  </tbody>\n",
       "</table>\n",
       "</div>"
      ],
      "text/plain": [
       "                                                comment\n",
       "3931                         誠実な対応と過不足ない説明で不安なく売却出来ました。\n",
       "3928       丁寧な対応で、こちらのワガママも聞いて頂いたうえに、価格も頑張ってくれて非常に良かった。\n",
       "3927  ビックモーター白浜店の梶原さんに査定して頂き、かなり頑張って下さいました。あと、欲しい車と下...\n",
       "3925  買取価格が一番高かったので買取していただきました。買取の手続きも丁寧に教えていただきスムーズ...\n",
       "3923  神奈川まで来て貰え、納税負担ではあったが手元に納得いく金額を残して貰えた。営業の方が雨で寒い..."
      ]
     },
     "execution_count": 63,
     "metadata": {},
     "output_type": "execute_result"
    }
   ],
   "source": [
    "df1_final.head()"
   ]
  },
  {
   "cell_type": "code",
   "execution_count": 65,
   "metadata": {},
   "outputs": [
    {
     "data": {
      "text/html": [
       "<div>\n",
       "<style scoped>\n",
       "    .dataframe tbody tr th:only-of-type {\n",
       "        vertical-align: middle;\n",
       "    }\n",
       "\n",
       "    .dataframe tbody tr th {\n",
       "        vertical-align: top;\n",
       "    }\n",
       "\n",
       "    .dataframe thead th {\n",
       "        text-align: right;\n",
       "    }\n",
       "</style>\n",
       "<table border=\"1\" class=\"dataframe\">\n",
       "  <thead>\n",
       "    <tr style=\"text-align: right;\">\n",
       "      <th></th>\n",
       "      <th>comment</th>\n",
       "      <th>result</th>\n",
       "    </tr>\n",
       "  </thead>\n",
       "  <tbody>\n",
       "    <tr>\n",
       "      <th>3959</th>\n",
       "      <td>頑張ってはくれようとするが、結果は伴わず最終提示の額も条件ありでした。期待するが残念な結果です。</td>\n",
       "      <td>0</td>\n",
       "    </tr>\n",
       "    <tr>\n",
       "      <th>3931</th>\n",
       "      <td>誠実な対応と過不足ない説明で不安なく売却出来ました。</td>\n",
       "      <td>1</td>\n",
       "    </tr>\n",
       "    <tr>\n",
       "      <th>3930</th>\n",
       "      <td>丁寧な対応で良かったが、買取価格は、ここで乗換えれば更に高くなるという条件付きだったのが残念...</td>\n",
       "      <td>0</td>\n",
       "    </tr>\n",
       "    <tr>\n",
       "      <th>3929</th>\n",
       "      <td>最終的に決まらなかったものの、最後まで査定価格を上司に掛け合ってくれるなど熱意がよかった。</td>\n",
       "      <td>0</td>\n",
       "    </tr>\n",
       "    <tr>\n",
       "      <th>3928</th>\n",
       "      <td>丁寧な対応で、こちらのワガママも聞いて頂いたうえに、価格も頑張ってくれて非常に良かった。</td>\n",
       "      <td>1</td>\n",
       "    </tr>\n",
       "  </tbody>\n",
       "</table>\n",
       "</div>"
      ],
      "text/plain": [
       "                                                comment  result\n",
       "3959   頑張ってはくれようとするが、結果は伴わず最終提示の額も条件ありでした。期待するが残念な結果です。       0\n",
       "3931                         誠実な対応と過不足ない説明で不安なく売却出来ました。       1\n",
       "3930  丁寧な対応で良かったが、買取価格は、ここで乗換えれば更に高くなるという条件付きだったのが残念...       0\n",
       "3929      最終的に決まらなかったものの、最後まで査定価格を上司に掛け合ってくれるなど熱意がよかった。       0\n",
       "3928       丁寧な対応で、こちらのワガママも聞いて頂いたうえに、価格も頑張ってくれて非常に良かった。       1"
      ]
     },
     "execution_count": 65,
     "metadata": {},
     "output_type": "execute_result"
    }
   ],
   "source": [
    "df3_final.head()"
   ]
  },
  {
   "cell_type": "code",
   "execution_count": null,
   "metadata": {},
   "outputs": [],
   "source": []
  }
 ],
 "metadata": {
  "interpreter": {
   "hash": "a665b5d41d17b532ea9890333293a1b812fa0b73c9c25c950b3cedf1bebd0438"
  },
  "kernelspec": {
   "display_name": "Python 3.9.18 64-bit",
   "name": "python3"
  },
  "language_info": {
   "codemirror_mode": {
    "name": "ipython",
    "version": 3
   },
   "file_extension": ".py",
   "mimetype": "text/x-python",
   "name": "python",
   "nbconvert_exporter": "python",
   "pygments_lexer": "ipython3",
   "version": "3.9.18"
  },
  "orig_nbformat": 4
 },
 "nbformat": 4,
 "nbformat_minor": 2
}
