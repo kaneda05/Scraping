{
 "cells": [
  {
   "cell_type": "markdown",
   "metadata": {},
   "source": [
    "# 引越しの口コミサイトをスクレイピング"
   ]
  },
  {
   "cell_type": "markdown",
   "metadata": {},
   "source": [
    "参考：[複数のページをまたいでスクレイピングしたいです。](https://teratail.com/questions/220626?sort=3)"
   ]
  },
  {
   "cell_type": "code",
   "execution_count": null,
   "metadata": {},
   "outputs": [],
   "source": [
    "!pip install requests\n",
    "!pip install beautifulsoup4"
   ]
  },
  {
   "cell_type": "code",
   "execution_count": null,
   "metadata": {},
   "outputs": [],
   "source": [
    "import time\n",
    "import requests\n",
    "from bs4 import BeautifulSoup\n",
    "from urllib.parse import urljoin\n",
    "import pandas as pd\n",
    "import datetime\n",
    "\n",
    "date_data = []\n",
    "compares_data = []\n",
    "titles_data = []\n",
    "scores_data = []\n",
    "comments_data = []\n",
    "\n",
    "\n",
    "\n",
    "for n in range(1, 300):\n",
    "  time.sleep(1)\n",
    "  url = f'https://hikkoshizamurai.jp/company/d-sakaico/voice/p1-com101?voice_page={n}'\n",
    "  res = requests.get(url)\n",
    "  soup = BeautifulSoup(res.text,\"html.parser\")\n",
    "\n",
    "  # 日付の取得\n",
    "  tables = soup.find_all(\"table\",attrs={\"voice-table\"})\n",
    "  for i in range(len(tables)):\n",
    "    date = tables[i].text.replace(\"\\n\",\"\").replace(\"引越し時期\",\"\").replace(\"年\",\"-\").replace(\"月\",\"-\")\n",
    "    dt, _ = date.split(\"日(\")\n",
    "    date_data.append(dt)\n",
    "\n",
    "\n",
    "  # タイトルの取得\n",
    "  titles = soup.find_all(\"div\",attrs={\"voice-title\"})\n",
    "  for t in titles:\n",
    "    ts = t.text\n",
    "    titles_data.append(ts)\n",
    "\n",
    "  # 評価点の取得\n",
    "  scores = soup.find_all(\"div\",attrs={\"voice-rate-number\"})\n",
    "  for s in scores:\n",
    "    ss = s.text.replace(\"点\",\"\").replace(\"評価数：\",\"\").replace(\"\\n\", \"\").replace(\" \",\"\")\n",
    "    scores_data.append(float(ss))\n",
    "\n",
    "  # コメントの取得\n",
    "  comments = soup.find_all(\"div\",attrs={\"voice-comment-text\"})\n",
    "  for c in comments:\n",
    "    cs = c.text.replace(\"\\n\",\"\").replace(\" \",\"\").replace(\"\\r\",\"\")\n",
    "    comments_data.append(cs)\n",
    "\n",
    "\n",
    "\n",
    "data = {\"date\":1,\n",
    "        \"title\":1,\n",
    "        \"rate\":1,\n",
    "        \"compare\":1}\n",
    "\n",
    "data[\"date\"] = date_data\n",
    "data[\"title\"] = titles_data\n",
    "data[\"rate\"] = scores_data\n",
    "data[\"comment\"] = comments_data\n",
    "df = pd.DataFrame(data)"
   ]
  },
  {
   "cell_type": "markdown",
   "metadata": {},
   "source": [
    "なぜか\n",
    "\n",
    "data[\"compare\"] = compares_data\n",
    "\n",
    "```\n",
    "data[\"compare\"] = compares_data\n",
    "```\n",
    "とすると\n",
    "\n",
    "\n",
    "\n",
    "```\n",
    "TypeError: 'str' object does not support item assignment\n",
    "```\n",
    "となってしまうが、別のセルで実行するとうまくいく\n"
   ]
  },
  {
   "cell_type": "code",
   "execution_count": null,
   "metadata": {},
   "outputs": [],
   "source": [
    "df.head(10)"
   ]
  },
  {
   "cell_type": "markdown",
   "metadata": {},
   "source": [
    "- 参考：[Pythonのdatetimeで日付や時間と文字列を変換（strftime, strptime）](https://note.nkmk.me/python-datetime-usage/)\n",
    "\n",
    "- 参考：[PythonでCSVオブジェクトを日付順で並べ替える\n",
    "](https://laboratory.kazuuu.net/sorting-csv-objects-by-date-in-python/)"
   ]
  },
  {
   "cell_type": "code",
   "execution_count": null,
   "metadata": {},
   "outputs": [],
   "source": [
    "df[\"date\"] = pd.to_datetime(df[\"date\"])\n",
    "df.sort_values(by = 'date', ascending = True, inplace = True)\n",
    "df.head()"
   ]
  },
  {
   "cell_type": "code",
   "execution_count": null,
   "metadata": {},
   "outputs": [],
   "source": [
    "df.to_csv(\"moving_sq1.csv\")"
   ]
  }
 ],
 "metadata": {
  "language_info": {
   "name": "python"
  },
  "orig_nbformat": 4
 },
 "nbformat": 4,
 "nbformat_minor": 2
}
